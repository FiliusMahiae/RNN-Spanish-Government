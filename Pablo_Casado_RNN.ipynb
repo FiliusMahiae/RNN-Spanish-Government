{
 "cells": [
  {
   "cell_type": "markdown",
   "metadata": {
    "id": "NXSr01Rz5qAV"
   },
   "source": [
    "### **Trabajo 2 - Generación de Texto con Modelos Recurrentes (RNN)**\n",
    "\n",
    "#### Desarrollado por Sergio Mahía INSO 3A\n",
    "\n",
    "Este notebook tiene como objetivo desarrollar un modelo basado en redes neuronales recurrentes (RNN), específicamente utilizando capas LSTM, para la generación de texto en español. El dataset consiste en intervenciones parlamentarias, y el modelo aprenderá a generar contenido que refleje el estilo y las estructuras lingüísticas presentes en estos datos.\n",
    "\n",
    "#### **Estructura del Notebook**\n",
    "1. **Carga y Preprocesamiento de Datos**:\n",
    "   - Preparación del dataset para su uso en el modelo.\n",
    "   - Conversión del texto en representaciones numéricas.\n",
    "\n",
    "2. **Definición del Modelo**:\n",
    "   - Arquitectura basada en capas LSTM para capturar dependencias temporales en el texto.\n",
    "   - Regularización y técnicas de optimización para mejorar el rendimiento.\n",
    "\n",
    "3. **Entrenamiento del Modelo**:\n",
    "   - Uso de técnicas de optimización avanzadas para ajustar los parámetros.\n",
    "   - Evaluación del desempeño durante el entrenamiento.\n",
    "\n",
    "4. **Generación de Texto**:\n",
    "   - Uso del modelo entrenado para generar texto a partir de una cadena inicial.\n",
    "   - Análisis de la coherencia y diversidad del contenido generado.\n",
    "\n",
    "#### **Objetivo Principal**\n",
    "Crear un modelo capaz de generar texto que sea coherente y relevante, reflejando tanto el estilo como el contenido del dataset, y optimizando su calidad mediante ajustes progresivos en el diseño y entrenamiento.\n",
    "\n",
    "#### **Importancia del Trabajo**\n",
    "La generación de texto automatizada tiene múltiples aplicaciones, desde la creación de contenido hasta el análisis del lenguaje natural en contextos políticos y sociales. Este proyecto proporciona una base sólida para explorar dichas aplicaciones, mostrando el poder de las RNN y técnicas modernas de aprendizaje automático."
   ]
  },
  {
   "cell_type": "markdown",
   "metadata": {
    "id": "BsQBqhme6OHw"
   },
   "source": [
    "### **Importación de Librerías Necesarias**\n",
    "\n",
    "En esta celda, se importan las librerías y módulos esenciales para la construcción y entrenamiento del modelo:\n",
    "\n",
    "1. **`tensorflow` y `keras`**:\n",
    "   - `tensorflow`: Biblioteca principal utilizada para construir y entrenar redes neuronales.\n",
    "   - `keras`: API de alto nivel integrada en TensorFlow para la creación de modelos de aprendizaje profundo.\n",
    "\n",
    "2. **`numpy`**:\n",
    "   - Biblioteca para realizar operaciones matemáticas y de manipulación de datos de manera eficiente.\n",
    "\n",
    "3. **`os` y `time`**:\n",
    "   - `os`: Proporciona funcionalidades para interactuar con el sistema operativo, como manejar archivos y directorios.\n",
    "   - `time`: Permite medir el tiempo de ejecución de las operaciones, útil para evaluar el rendimiento.\n",
    "\n",
    "Estas herramientas constituyen la base necesaria para trabajar con el modelo de generación de texto basado en redes neuronales recurrentes.\n"
   ]
  },
  {
   "cell_type": "code",
   "execution_count": 1,
   "metadata": {
    "colab": {
     "base_uri": "https://localhost:8080/"
    },
    "id": "lPpBIgIAAIxp",
    "outputId": "495fbddd-fc33-45e9-c3d7-c544055014c2"
   },
   "outputs": [
    {
     "name": "stdout",
     "output_type": "stream",
     "text": [
      "Versión de TensorFlow: 2.17.1\n",
      "Versión de NumPy: 1.26.4\n"
     ]
    }
   ],
   "source": [
    "# Importar TensorFlow, la biblioteca principal para construir redes neuronales\n",
    "import tensorflow as tf\n",
    "\n",
    "# Importar Keras, una API de alto nivel para construir y entrenar modelos\n",
    "from tensorflow import keras\n",
    "\n",
    "# Importar NumPy para operaciones matemáticas eficientes\n",
    "import numpy as np\n",
    "\n",
    "# Importar el módulo 'os' para interactuar con el sistema operativo (archivos, directorios, etc.)\n",
    "import os\n",
    "\n",
    "# Importar 'time' para medir tiempos de ejecución\n",
    "import time\n",
    "\n",
    "# Comprobar las versiones de TensorFlow y NumPy\n",
    "print(\"Versión de TensorFlow:\", tf.__version__)\n",
    "print(\"Versión de NumPy:\", np.__version__)"
   ]
  },
  {
   "cell_type": "markdown",
   "metadata": {
    "id": "FzsonyOQ7OFA"
   },
   "source": [
    "### **Ruta del Archivo**\n",
    "\n",
    "Se define la ruta del archivo que contiene las intervenciones parlamentarias. Esta variable será utilizada para acceder al archivo en el sistema. Si se trabaja en un entorno diferente (por ejemplo, local o en Google Colab), la ruta debe ajustarse según corresponda.\n",
    "\n",
    "- **Nota**: Es importante asegurarse de que el archivo exista en la ubicación especificada para evitar errores al intentar leerlo.\n"
   ]
  },
  {
   "cell_type": "code",
   "execution_count": 2,
   "metadata": {
    "id": "A0i6HitK7FrB"
   },
   "outputs": [],
   "source": [
    "filepath = \"/content/intervencionesCasado.txt\"  # Cambiar a la ruta correcta"
   ]
  },
  {
   "cell_type": "markdown",
   "metadata": {
    "id": "C_04tdU-oCRj"
   },
   "source": [
    "### **Carga y Análisis Inicial del Texto**\n",
    "\n",
    "En esta celda se realiza la carga y análisis inicial del archivo de texto que contiene las intervenciones parlamentarias. Las principales tareas realizadas son:\n",
    "\n",
    "1. **Lectura del Archivo**:\n",
    "   - Se carga el archivo de texto desde la ruta y se decodifica utilizando `utf-8` para garantizar la correcta interpretación de los caracteres especiales.\n",
    "\n",
    "2. **Análisis Básico**:\n",
    "   - Se calcula la longitud total del texto cargado en caracteres.\n",
    "   - Se extraen los caracteres únicos que componen el texto, generando un vocabulario ordenado.\n",
    "\n",
    "3. **Salida de Información**:\n",
    "   - Se muestra la longitud total del texto en caracteres y el número de caracteres únicos para comprender la diversidad del conjunto de datos.\n",
    "   - Se imprime el vocabulario completo.\n",
    "\n",
    "Estas operaciones permiten comprender las características básicas del dataset y preparar el texto para su posterior preprocesamiento.\n",
    "\n",
    "\n"
   ]
  },
  {
   "cell_type": "code",
   "execution_count": 3,
   "metadata": {
    "colab": {
     "base_uri": "https://localhost:8080/"
    },
    "id": "u75nLCa-AW7m",
    "outputId": "c3df3f72-c7cd-4ed5-86e6-f5b9f1b0d9a3"
   },
   "outputs": [
    {
     "name": "stdout",
     "output_type": "stream",
     "text": [
      "Longitud del texto: 105940 caracteres\n",
      "El texto está compuesto de 92 caracteres únicos.\n",
      "Primeros 20 caracteres únicos: ['\\n', ' ', '!', '%', ',', '-', '.', '0', '1', '2', '3', '4', '5', '6', '7', '8', '9', ':', ';', '?']\n"
     ]
    }
   ],
   "source": [
    "# Verificar si el archivo existe antes de intentar leerlo\n",
    "if os.path.exists(filepath):\n",
    "    # Leer el archivo en modo binario y decodificarlo a texto utilizando 'utf-8'\n",
    "    text = open(filepath, 'rb').read().decode(encoding='utf-8')\n",
    "\n",
    "    # Mostrar la longitud del texto cargado (número de caracteres totales)\n",
    "    print(f'Longitud del texto: {len(text)} caracteres')\n",
    "\n",
    "    # Crear un vocabulario con los caracteres únicos presentes en el texto, ordenados alfabéticamente\n",
    "    vocab = sorted(set(text))\n",
    "\n",
    "    # Mostrar el número de caracteres únicos en el texto\n",
    "    print(f'El texto está compuesto de {len(vocab)} caracteres únicos.')\n",
    "\n",
    "    # Mostrar una parte del vocabulario para evitar saturar la salida\n",
    "    print(f'Primeros 20 caracteres únicos: {vocab[:20]}')\n",
    "else:\n",
    "    print(f\"El archivo en la ruta {filepath} no existe. Verifica la ruta proporcionada.\")\n"
   ]
  },
  {
   "cell_type": "markdown",
   "metadata": {
    "id": "M1rYIba_G1wA"
   },
   "source": [
    "### **Distribución de Frecuencia de Caracteres**\n",
    "\n",
    "Este gráfico muestra la frecuencia de aparición de cada carácter único en el texto. Es útil para:\n",
    "\n",
    "- Analizar la distribución del vocabulario y detectar posibles sesgos en los datos.\n",
    "- Evaluar si ciertos caracteres dominan el dataset, lo que podría influir en el comportamiento del modelo.\n",
    "\n",
    "El eje X representa los caracteres únicos en el vocabulario, y el eje Y, su frecuencia en el texto."
   ]
  },
  {
   "cell_type": "code",
   "execution_count": 4,
   "metadata": {
    "colab": {
     "base_uri": "https://localhost:8080/",
     "height": 580
    },
    "id": "NXC4_7cYGePS",
    "outputId": "276e8171-ae3c-4e3e-d129-75f33ef98047"
   },
   "outputs": [
    {
     "data": {
      "image/png": "[encoded data removed]",
      "text/plain": [
       "<Figure size 1200x600 with 1 Axes>"
      ]
     },
     "metadata": {},
     "output_type": "display_data"
    }
   ],
   "source": [
    "from collections import Counter\n",
    "import matplotlib.pyplot as plt\n",
    "\n",
    "def plot_character_distribution(text, vocab):\n",
    "    char_counts = Counter(text)\n",
    "    sorted_counts = {char: char_counts[char] for char in vocab}\n",
    "\n",
    "    plt.figure(figsize=(12, 6))\n",
    "    plt.bar(sorted_counts.keys(), sorted_counts.values(), color='teal')\n",
    "    plt.title('Distribución de Frecuencia de Caracteres')\n",
    "    plt.xlabel('Caracteres')\n",
    "    plt.ylabel('Frecuencia')\n",
    "    plt.show()\n",
    "\n",
    "# Llamar a la función\n",
    "plot_character_distribution(text, vocab)\n"
   ]
  },
  {
   "cell_type": "markdown",
   "metadata": {
    "id": "e9EdLOHbHp89"
   },
   "source": [
    "### **Top n-gramas Más Comunes**\n",
    "\n",
    "Este gráfico muestra los n-gramas más frecuentes en el dataset. Un n-grama es una secuencia de n palabras consecutivas en el texto, y su análisis es útil para:\n",
    "\n",
    "- **Identificar patrones recurrentes** en el texto.\n",
    "- **Entender la estructura lingüística** predominante en el dataset.\n",
    "\n",
    "El eje X representa la frecuencia, mientras que el eje Y muestra los n-gramas más comunes. Este análisis es particularmente relevante para evaluar la consistencia del texto generado en comparación con el texto de referencia.\n"
   ]
  },
  {
   "cell_type": "code",
   "execution_count": 5,
   "metadata": {
    "colab": {
     "base_uri": "https://localhost:8080/",
     "height": 565
    },
    "id": "9lx8EAqfHKPS",
    "outputId": "c5b2eca9-4543-4c35-8bad-5e4903361987"
   },
   "outputs": [
    {
     "data": {
      "image/png": "[encoded data removed]",
      "text/plain": [
       "<Figure size 1000x600 with 1 Axes>"
      ]
     },
     "metadata": {},
     "output_type": "display_data"
    }
   ],
   "source": [
    "from collections import Counter\n",
    "\n",
    "def plot_most_common_ngrams(text, n=2, top_k=20):\n",
    "    tokens = text.split()\n",
    "    ngrams = zip(*[tokens[i:] for i in range(n)])\n",
    "    ngram_counts = Counter(ngrams)\n",
    "    most_common = ngram_counts.most_common(top_k)\n",
    "\n",
    "    labels, values = zip(*most_common)\n",
    "    labels = [' '.join(label) for label in labels]\n",
    "\n",
    "    plt.figure(figsize=(10, 6))\n",
    "    plt.barh(labels, values, color='skyblue')\n",
    "    plt.title(f'Top {top_k} {n}-gramas Más Comunes')\n",
    "    plt.xlabel('Frecuencia')\n",
    "    plt.ylabel(f'{n}-gramas')\n",
    "    plt.gca().invert_yaxis()\n",
    "    plt.show()\n",
    "\n",
    "# Llamar a la función para visualizar los bigramas más comunes\n",
    "plot_most_common_ngrams(text, n=2, top_k=20)\n"
   ]
  },
  {
   "cell_type": "markdown",
   "metadata": {
    "id": "5141Q3uD7hg7"
   },
   "source": [
    "### **Conversión de Caracteres a Representación Numérica**\n",
    "\n",
    "Dado que las redes neuronales procesan valores numéricos y no caracteres, es necesario convertir el texto a una representación numérica. Esta celda realiza las siguientes tareas:\n",
    "\n",
    "1. **Creación de Diccionarios de Mapeo**:\n",
    "   - `char2idx`: Diccionario que asigna un índice numérico a cada carácter único en el vocabulario.\n",
    "   - `idx2char`: Array que permite mapear un índice numérico de vuelta a su carácter correspondiente.\n",
    "\n",
    "2. **Visualización del Mapeo**:\n",
    "   - Se imprimen los pares de carácter e índice para una parte del vocabulario, ayudando a verificar la asignación realizada.\n",
    "\n",
    "Este paso es fundamental para preprocesar el texto y prepararlo para el entrenamiento del modelo.\n"
   ]
  },
  {
   "cell_type": "code",
   "execution_count": 6,
   "metadata": {
    "colab": {
     "base_uri": "https://localhost:8080/"
    },
    "id": "4ItsMgJVBMC3",
    "outputId": "00879f5d-282a-4e9a-e9a4-820b57ecf35c"
   },
   "outputs": [
    {
     "name": "stdout",
     "output_type": "stream",
     "text": [
      "Primeros 40 pares carácter-índice:\n",
      "  '\\n':   0,\n",
      "  ' ' :   1,\n",
      "  '!' :   2,\n",
      "  '%' :   3,\n",
      "  ',' :   4,\n",
      "  '-' :   5,\n",
      "  '.' :   6,\n",
      "  '0' :   7,\n",
      "  '1' :   8,\n",
      "  '2' :   9,\n",
      "  '3' :  10,\n",
      "  '4' :  11,\n",
      "  '5' :  12,\n",
      "  '6' :  13,\n",
      "  '7' :  14,\n",
      "  '8' :  15,\n",
      "  '9' :  16,\n",
      "  ':' :  17,\n",
      "  ';' :  18,\n",
      "  '?' :  19,\n",
      "  'A' :  20,\n",
      "  'B' :  21,\n",
      "  'C' :  22,\n",
      "  'D' :  23,\n",
      "  'E' :  24,\n",
      "  'F' :  25,\n",
      "  'G' :  26,\n",
      "  'H' :  27,\n",
      "  'I' :  28,\n",
      "  'J' :  29,\n",
      "  'L' :  30,\n",
      "  'M' :  31,\n",
      "  'N' :  32,\n",
      "  'O' :  33,\n",
      "  'P' :  34,\n",
      "  'Q' :  35,\n",
      "  'R' :  36,\n",
      "  'S' :  37,\n",
      "  'T' :  38,\n",
      "  'U' :  39,\n"
     ]
    }
   ],
   "source": [
    "# Verificar si el vocabulario no está vacío antes de proceder\n",
    "if vocab:\n",
    "    # Crear un diccionario que mapea cada carácter único a un índice numérico\n",
    "    char2idx = {u: i for i, u in enumerate(vocab)}\n",
    "\n",
    "    # Crear un array que mapea índices numéricos a sus caracteres correspondientes\n",
    "    idx2char = np.array(vocab)\n",
    "\n",
    "    # Imprimir los primeros 40 pares carácter-índice para verificar el mapeo\n",
    "    print(\"Primeros 40 pares carácter-índice:\")\n",
    "    for char, _ in zip(char2idx, range(40)):\n",
    "        print('  {:4s}: {:3d},'.format(repr(char), char2idx[char]))\n",
    "else:\n",
    "    print(\"Error: El vocabulario está vacío. Asegúrate de que el texto fue cargado correctamente.\")\n"
   ]
  },
  {
   "cell_type": "markdown",
   "metadata": {
    "id": "L73YqGIq73E9"
   },
   "source": [
    "### **Conversión del Texto a una Representación Numérica**\n",
    "\n",
    "En esta celda, el texto completo se transforma en un array de enteros, donde cada carácter es representado por su índice correspondiente en el diccionario `char2idx`. Esto es necesario porque las redes neuronales solo pueden trabajar con datos numéricos.\n",
    "\n",
    "- **`text_as_int`**: Array de enteros que representa el texto original en términos numéricos, listo para ser procesado por el modelo.\n",
    "\n",
    "Este paso es fundamental para preprocesar los datos y preparar el texto para su entrada en la red neuronal.\n"
   ]
  },
  {
   "cell_type": "code",
   "execution_count": 7,
   "metadata": {
    "id": "e-7yufZABUlU"
   },
   "outputs": [],
   "source": [
    "# Convertir el texto completo a un array de enteros\n",
    "# Cada carácter del texto se reemplaza por su índice correspondiente en char2idx\n",
    "text_as_int = np.array([char2idx[c] for c in text])"
   ]
  },
  {
   "cell_type": "markdown",
   "metadata": {
    "id": "9mjOAmiS8LcH"
   },
   "source": [
    "### **Visualización del Texto y su Representación Numérica**\n",
    "\n",
    "En esta celda, se realiza una verificación visual del texto y su transformación a representación numérica:\n",
    "\n",
    "1. **Texto Original**:\n",
    "   - Se muestran los primeros 50 caracteres del texto original para confirmar que fue cargado correctamente.\n",
    "\n",
    "2. **Texto Convertido**:\n",
    "   - Se presentan los índices numéricos correspondientes a los primeros 50 caracteres del texto, basados en el diccionario `char2idx`.\n",
    "\n",
    "Este paso permite verificar que la conversión del texto a su representación numérica se realizó de manera adecuada.\n"
   ]
  },
  {
   "cell_type": "code",
   "execution_count": 8,
   "metadata": {
    "colab": {
     "base_uri": "https://localhost:8080/"
    },
    "id": "7Wq-zN5kBVKK",
    "outputId": "fe0b4a21-402b-44b8-8dc5-afe9cd92ac82"
   },
   "outputs": [
    {
     "name": "stdout",
     "output_type": "stream",
     "text": [
      "texto : 'Señor Sánchez, sus recetas económicas son tan creí'\n",
      "array([37, 50, 80, 60, 63,  1, 37, 77, 59, 48, 53, 50, 71,  4,  1, 64, 66,\n",
      "       64,  1, 63, 50, 48, 50, 65, 46, 64,  1, 50, 48, 60, 59, 81, 58, 54,\n",
      "       48, 46, 64,  1, 64, 60, 59,  1, 65, 46, 59,  1, 48, 63, 50, 79])\n"
     ]
    }
   ],
   "source": [
    "# Mostrar los primeros 50 caracteres del texto original\n",
    "print('texto : {}'.format(repr(text[:50])))\n",
    "\n",
    "# Mostrar los índices numéricos correspondientes a los primeros 50 caracteres del texto\n",
    "print('{}'.format(repr(text_as_int[:50])))\n"
   ]
  },
  {
   "cell_type": "markdown",
   "metadata": {
    "id": "CiEo1IbooZT9"
   },
   "source": [
    "### **Creación del Dataset para Entrenamiento**\n",
    "\n",
    "En esta celda se prepara el conjunto de datos necesario para entrenar el modelo:\n",
    "\n",
    "1. **Conversión a Dataset de TensorFlow**:\n",
    "   - Se utiliza la función `tf.data.Dataset.from_tensor_slices` para convertir el array de índices (`text_as_int`) en un dataset de TensorFlow. Esto permite manejar el texto en fragmentos más pequeños que pueden ser procesados por el modelo.\n",
    "\n",
    "2. **División en Secuencias**:\n",
    "   - Se define una longitud de secuencia (`seq_length`) de 100 caracteres.\n",
    "   - El dataset se agrupa en secuencias de longitud `seq_length + 1` utilizando el método `batch`.\n",
    "   - El parámetro `drop_remainder=True` asegura que solo se mantengan los lotes completos.\n",
    "\n",
    "Este paso es crucial para estructurar los datos en fragmentos que el modelo pueda procesar durante el entrenamiento.\n"
   ]
  },
  {
   "cell_type": "code",
   "execution_count": 9,
   "metadata": {
    "id": "s5q3NUFIBVOt"
   },
   "outputs": [],
   "source": [
    "# Convertir el array de índices en un dataset de TensorFlow\n",
    "# Cada elemento del dataset será un carácter representado por su índice numérico\n",
    "char_dataset = tf.data.Dataset.from_tensor_slices(text_as_int)\n",
    "\n",
    "# Definir la longitud de las secuencias para el modelo\n",
    "seq_length = 100\n",
    "\n",
    "# Agrupar el dataset en secuencias de longitud seq_length + 1\n",
    "# Esto incluye el carácter actual y el siguiente como objetivo\n",
    "sequences = char_dataset.batch(seq_length + 1, drop_remainder=True)"
   ]
  },
  {
   "cell_type": "markdown",
   "metadata": {
    "id": "MkJ8aADx8j2Y"
   },
   "source": [
    "### **Verificación de las Secuencias Generadas**\n",
    "\n",
    "En esta celda se realiza una verificación de las secuencias creadas a partir del dataset.\n",
    "\n",
    "1. **Propósito**:\n",
    "   - Confirmar que las secuencias generadas contienen 101 caracteres (100 para la entrada y 1 para el objetivo).\n",
    "   - Asegurarse de que la conversión numérica inversa (`idx2char`) restaura correctamente el texto original.\n",
    "\n",
    "2. **Visualización**:\n",
    "   - Se muestran las primeras 10 secuencias generadas como texto para verificar su contenido.\n",
    "\n",
    "Este paso es importante para garantizar que las secuencias han sido correctamente formateadas antes de ser usadas en el entrenamiento.\n"
   ]
  },
  {
   "cell_type": "code",
   "execution_count": 10,
   "metadata": {
    "colab": {
     "base_uri": "https://localhost:8080/"
    },
    "id": "_04GR_o-BVVb",
    "outputId": "f8281b47-fe7c-44ca-fb40-ec962ec6a04d"
   },
   "outputs": [
    {
     "name": "stdout",
     "output_type": "stream",
     "text": [
      "'Señor Sánchez, sus recetas económicas son tan creíbles como sus promesas electorales, y encima propon'\n",
      "'en las mismas recetas fracasadas que nos llevaron a la peor crisis económica de nuestra historia: más'\n",
      "' despilfarro, más déficit y más impuestos. Pero el Partido Popular es un partido de Estado y también '\n",
      "'de Gobierno, aunque estemos temporalmente en la oposición. Por eso el lunes le ofrecí pactar los Pres'\n",
      "'upuestos Generales si rompe con los independentistas, una oferta, por cierto, a la que usted no ha co'\n",
      "'ntestado. Hoy tiene oportunidad de hacerlo, porque ya no tiene excusa. Usted eligió libremente a sus '\n",
      "'socios para la investidura, pero si ahora elige otra vez a los mismos para los presupuestos es porque'\n",
      "' quiere. ¿O cree que al señor Torra le importan los parados en España, o al señor Otegi los agriculto'\n",
      "'res y ganaderos, o al señor Junqueras los pensionistas o los autónomos? Ya lo dijeron aquí, les impor'\n",
      "'ta España un comino. Y parece que a usted también si acepta una mesa de autodeterminación con un inha'\n"
     ]
    }
   ],
   "source": [
    "# Verificar que las secuencias generadas tienen 101 caracteres (100 de entrada + 1 de salida)\n",
    "# Tomar y mostrar las primeras 10 secuencias del dataset\n",
    "for item in sequences.take(10):  # Toma las primeras 10 secuencias\n",
    "    # Convertir índices numéricos de nuevo a caracteres y unirlos como texto\n",
    "    print(repr(''.join(idx2char[item.numpy()])))\n"
   ]
  },
  {
   "cell_type": "markdown",
   "metadata": {
    "id": "9Nf-CRKn8wvZ"
   },
   "source": [
    "### **Preparación de los Datos de Entrenamiento**\n",
    "\n",
    "En esta celda, se realiza el paso clave de separar las secuencias en datos de entrada y salida:\n",
    "\n",
    "1. **Función `split_input_target`**:\n",
    "   - Toma una secuencia (`chunk`) y la divide en:\n",
    "     - `input_text`: Todos los caracteres excepto el último (entrada para el modelo).\n",
    "     - `target_text`: Todos los caracteres excepto el primero (objetivo o etiqueta).\n",
    "\n",
    "2. **Aplicación de la Función**:\n",
    "   - Se utiliza el método `map` del dataset para aplicar esta transformación a todas las secuencias, generando un dataset que contiene pares (entrada, salida).\n",
    "\n",
    "Este paso es fundamental para estructurar los datos de forma que el modelo pueda aprender la relación entre las secuencias de entrada y sus objetivos.\n"
   ]
  },
  {
   "cell_type": "code",
   "execution_count": 11,
   "metadata": {
    "id": "5k9qphFpB5ws"
   },
   "outputs": [],
   "source": [
    "# Definir una función que divide una secuencia en entrada y salida\n",
    "def split_input_target(chunk):\n",
    "    # Entrada: todos los caracteres excepto el último\n",
    "    input_text = chunk[:-1]\n",
    "    # Objetivo: todos los caracteres excepto el primero\n",
    "    target_text = chunk[1:]\n",
    "    return input_text, target_text\n",
    "\n",
    "# Aplicar la función a todas las secuencias en el dataset\n",
    "# Esto genera pares (entrada, salida) para cada secuencia\n",
    "dataset = sequences.map(split_input_target)\n"
   ]
  },
  {
   "cell_type": "markdown",
   "metadata": {
    "id": "r_pip8eI89t6"
   },
   "source": [
    "### **Verificación de los Pares (Entrada y Salida)**\n",
    "\n",
    "En esta celda se realiza una verificación del dataset transformado, mostrando cómo se estructuran las parejas de entrada y salida:\n",
    "\n",
    "1. **Primera Pareja**:\n",
    "   - Se toma el primer par del dataset y se convierte de nuevo a texto utilizando el diccionario `idx2char`.\n",
    "   - `Input data`: Los 100 primeros caracteres de entrada.\n",
    "   - `Target data`: Los caracteres objetivo correspondientes (los 100 caracteres desplazados en una posición hacia adelante).\n",
    "\n",
    "2. **Dataset**:\n",
    "   - Se imprime la estructura del dataset para confirmar que contiene las parejas adecuadas.\n",
    "\n",
    "Este paso asegura que la preparación de los datos es correcta antes de entrenar el modelo.\n"
   ]
  },
  {
   "cell_type": "code",
   "execution_count": 12,
   "metadata": {
    "colab": {
     "base_uri": "https://localhost:8080/"
    },
    "id": "jfs-DM9XB56u",
    "outputId": "d110797b-1918-4d3e-e591-0e4b6b9ffa5e"
   },
   "outputs": [
    {
     "name": "stdout",
     "output_type": "stream",
     "text": [
      "Input data:  'Señor Sánchez, sus recetas económicas son tan creíbles como sus promesas electorales, y encima propo'\n",
      "Target data: 'eñor Sánchez, sus recetas económicas son tan creíbles como sus promesas electorales, y encima propon'\n",
      "<_MapDataset element_spec=(TensorSpec(shape=(100,), dtype=tf.int64, name=None), TensorSpec(shape=(100,), dtype=tf.int64, name=None))>\n"
     ]
    }
   ],
   "source": [
    "# Mostrar la primera pareja (entrada y salida) del dataset transformado\n",
    "for input_example, target_example in dataset.take(1):  # Tomar un solo par\n",
    "    # Convertir la entrada de índices a texto y mostrarla\n",
    "    print('Input data: ', repr(''.join(idx2char[input_example.numpy()])))\n",
    "    # Convertir la salida de índices a texto y mostrarla\n",
    "    print('Target data:', repr(''.join(idx2char[target_example.numpy()])))\n",
    "\n",
    "# Imprimir la estructura general del dataset\n",
    "print(dataset)\n"
   ]
  },
  {
   "cell_type": "markdown",
   "metadata": {
    "id": "GM_THw0u9SuN"
   },
   "source": [
    "### **Creación de Batches para el Entrenamiento**\n",
    "\n",
    "En esta celda se estructuran los datos para el entrenamiento del modelo:\n",
    "\n",
    "1. **Definición de Parámetros**:\n",
    "   - `BATCH_SIZE`: Número de muestras (pares entrada-salida) que se procesarán en cada iteración del entrenamiento. En este caso, se definen lotes de 64 parejas.\n",
    "   - `BUFFER_SIZE`: Tamaño del buffer utilizado para mezclar aleatoriamente los datos. Esto ayuda a romper patrones en los datos secuenciales.\n",
    "\n",
    "2. **Creación de Batches**:\n",
    "   - Los datos se barajan utilizando `shuffle` con el tamaño del buffer definido.\n",
    "   - Se agrupan en batches de tamaño `BATCH_SIZE` utilizando el método `batch`.\n",
    "\n",
    "3. **Visualización**:\n",
    "   - Se imprime la estructura del dataset resultante para confirmar que los datos están correctamente agrupados en lotes.\n",
    "\n",
    "Este paso es esencial para organizar los datos de forma eficiente para el entrenamiento del modelo.\n"
   ]
  },
  {
   "cell_type": "code",
   "execution_count": 13,
   "metadata": {
    "colab": {
     "base_uri": "https://localhost:8080/"
    },
    "id": "G69aZMOIB6AM",
    "outputId": "b2922682-b720-4fad-8530-18113a5cd974"
   },
   "outputs": [
    {
     "name": "stdout",
     "output_type": "stream",
     "text": [
      "<_BatchDataset element_spec=(TensorSpec(shape=(64, 100), dtype=tf.int64, name=None), TensorSpec(shape=(64, 100), dtype=tf.int64, name=None))>\n"
     ]
    }
   ],
   "source": [
    "# Definir el tamaño de los lotes (batches) y el buffer para mezclar los datos\n",
    "BATCH_SIZE = 64  # Tamaño del batch: número de pares entrada-salida por lote\n",
    "BUFFER_SIZE = 10000  # Tamaño del buffer para mezclar aleatoriamente los datos\n",
    "\n",
    "# Barajar el dataset y agruparlo en batches\n",
    "dataset = dataset.shuffle(BUFFER_SIZE).batch(BATCH_SIZE, drop_remainder=True)\n",
    "\n",
    "# Imprimir la estructura del dataset para verificar los lotes\n",
    "print(dataset)"
   ]
  },
  {
   "cell_type": "markdown",
   "metadata": {
    "id": "Wv8SzZY9o-4G"
   },
   "source": [
    "### **Definición del Modelo RNN**\n",
    "\n",
    "Esta celda define una función que crea un modelo de red neuronal recurrente (RNN) compuesto por tres capas principales. Este modelo está diseñado para aprender las relaciones secuenciales en los datos textuales.\n",
    "\n",
    "#### **Estructura del Modelo**\n",
    "1. **Capa de Embedding**:\n",
    "   - Convierte los índices numéricos de los caracteres en vectores densos de una dimensión específica (`embedding_dim`), proporcionando una representación continua y útil para el modelo.\n",
    "\n",
    "2. **Capas LSTM**:\n",
    "   - Primera Capa: Contiene `rnn_units` neuronas y está configurada para devolver secuencias completas (`return_sequences=True`).\n",
    "   - Segunda Capa: Tiene la mitad de las unidades de la primera capa (`rnn_units // 2`) y también devuelve secuencias completas.\n",
    "   - Ambas capas utilizan el inicializador `glorot_uniform` y una regularización mediante `Dropout` para reducir el sobreajuste.\n",
    "\n",
    "3. **Capa Dense Intermedia**:\n",
    "   - Contiene 512 neuronas con activación ReLU para introducir no linealidad y mejorar la capacidad de aprendizaje.\n",
    "\n",
    "4. **Capa de Salida**:\n",
    "   - Mapea las activaciones al tamaño del vocabulario (`vocab_size`), representando la probabilidad de cada carácter en la siguiente posición.\n",
    "\n",
    "Este modelo combina técnicas de embedding, recurrencia y regularización para procesar texto y aprender patrones secuenciales de manera efectiva.\n"
   ]
  },
  {
   "cell_type": "code",
   "execution_count": 14,
   "metadata": {
    "id": "eB5oYVSUB6EZ"
   },
   "outputs": [],
   "source": [
    "# Importar las herramientas necesarias de Keras\n",
    "from tensorflow.keras import Sequential  # Para construir modelos secuenciales\n",
    "from tensorflow.keras.layers import Embedding, LSTM, Dense, Dropout  # Capas necesarias\n",
    "\n",
    "# Definir una función para construir el modelo\n",
    "def build_model(vocab_size, embedding_dim, rnn_units, batch_size):\n",
    "    model = Sequential()  # Crear un modelo secuencial\n",
    "\n",
    "    # Capa de tipo embedding: convierte índices numéricos en vectores densos\n",
    "    model.add(Embedding(input_dim=vocab_size, output_dim=embedding_dim))\n",
    "\n",
    "    # Primera capa LSTM: captura dependencias temporales largas\n",
    "    model.add(LSTM(\n",
    "        rnn_units,\n",
    "        return_sequences=True,  # Devuelve secuencias completas\n",
    "        stateful=True,  # Mantiene los estados entre lotes\n",
    "        recurrent_initializer='glorot_uniform'  # Inicializador de pesos\n",
    "    ))\n",
    "    model.add(Dropout(0.4))  # Regularización para evitar sobreajuste\n",
    "\n",
    "    # Segunda capa LSTM: refina los patrones aprendidos por la primera capa\n",
    "    model.add(LSTM(\n",
    "        rnn_units // 2,  # Mitad de unidades de la primera capa\n",
    "        return_sequences=True,\n",
    "        stateful=True,\n",
    "        recurrent_initializer='glorot_uniform'\n",
    "    ))\n",
    "    model.add(Dropout(0.4))  # Regularización\n",
    "\n",
    "    # Capa Dense intermedia: agrega no linealidad y capacidad de representación\n",
    "    model.add(Dense(512, activation=\"relu\"))\n",
    "    model.add(Dropout(0.4))  # Regularización\n",
    "\n",
    "    # Capa de salida: devuelve una probabilidad para cada carácter en el vocabulario\n",
    "    model.add(Dense(vocab_size))\n",
    "\n",
    "    return model  # Devuelve el modelo construido"
   ]
  },
  {
   "cell_type": "markdown",
   "metadata": {
    "id": "iSju86ue-aD5"
   },
   "source": [
    "### **Construcción del Modelo RNN**\n",
    "\n",
    "En esta celda se establecen los parámetros principales del modelo y se utiliza la función `build_model` para construir la arquitectura definida anteriormente.\n",
    "\n",
    "#### **Parámetros del Modelo**\n",
    "1. **`embedding_dim`**:\n",
    "   - Dimensión de los vectores densos generados por la capa de embedding. En este caso, se define en 256.\n",
    "\n",
    "2. **`rnn_units`**:\n",
    "   - Número de unidades en la primera capa LSTM. Se establece en 1024, proporcionando una alta capacidad de aprendizaje.\n",
    "\n",
    "3. **`BATCH_SIZE`**:\n",
    "   - Tamaño de los lotes utilizados durante el entrenamiento, definido en 64.\n",
    "\n",
    "#### **Construcción del Modelo**\n",
    "- El modelo se construye llamando a `build_model` con los parámetros definidos, utilizando el tamaño del vocabulario como `vocab_size`.\n",
    "- Esta celda configura y devuelve el modelo listo para ser compilado y entrenado.\n"
   ]
  },
  {
   "cell_type": "code",
   "execution_count": 15,
   "metadata": {
    "id": "YdgPsCk2CUiA"
   },
   "outputs": [],
   "source": [
    "# Establecer los parámetros principales del modelo\n",
    "embedding_dim = 256  # Dimensión de los vectores de embedding\n",
    "rnn_units = 1024  # Número de unidades en la primera capa LSTM\n",
    "BATCH_SIZE = 64  # Tamaño de los lotes para el entrenamiento\n",
    "\n",
    "# Construir el modelo utilizando la función build_model\n",
    "model = build_model(\n",
    "    vocab_size=len(vocab),  # Tamaño del vocabulario\n",
    "    embedding_dim=embedding_dim,  # Dimensión del embedding\n",
    "    rnn_units=rnn_units,  # Número de unidades en la capa LSTM\n",
    "    batch_size=BATCH_SIZE  # Tamaño de los lotes\n",
    ")"
   ]
  },
  {
   "cell_type": "markdown",
   "metadata": {
    "id": "PbJCbOJW-mdp"
   },
   "source": [
    "### **Inspección de Dimensiones de los Tensores**\n",
    "\n",
    "En esta celda se verifica la estructura de los tensores de entrada y salida en el dataset, asegurando que sus dimensiones sean correctas antes de proceder al entrenamiento del modelo.\n",
    "\n",
    "#### **Descripción de las Operaciones**\n",
    "1. **Extracción de un Batch**:\n",
    "   - Se toma el primer lote de datos (`dataset.take(1)`) que contiene las entradas y objetivos correspondientes.\n",
    "\n",
    "2. **Impresión de las Dimensiones**:\n",
    "   - Se muestran las dimensiones del tensor de entrada y del tensor objetivo:\n",
    "     - **Input**: Dimensiones en formato `(batch_size, sequence_length)`.\n",
    "     - **Target**: Debe coincidir en dimensiones con el tensor de entrada.\n",
    "\n",
    "Esta inspección es clave para garantizar que el dataset está correctamente configurado para alimentar al modelo durante el entrenamiento.\n"
   ]
  },
  {
   "cell_type": "code",
   "execution_count": 16,
   "metadata": {
    "colab": {
     "base_uri": "https://localhost:8080/"
    },
    "id": "S-ZlHgoPCUwY",
    "outputId": "b78af235-1579-4f08-ea02-ab846c1c44fc"
   },
   "outputs": [
    {
     "name": "stdout",
     "output_type": "stream",
     "text": [
      "Input: (64, 100) # (batch_size, sequence_length)\n",
      "Target: (64, 100) # (batch_size, sequence_length)\n"
     ]
    }
   ],
   "source": [
    "# Inspeccionar las dimensiones de los tensores en el primer batch del dataset\n",
    "for input_example_batch, target_example_batch in dataset.take(1):  # Tomar un batch\n",
    "    # Imprimir las dimensiones del tensor de entrada\n",
    "    print(\"Input:\", input_example_batch.shape, \"# (batch_size, sequence_length)\")\n",
    "    # Imprimir las dimensiones del tensor objetivo\n",
    "    print(\"Target:\", target_example_batch.shape, \"# (batch_size, sequence_length)\")"
   ]
  },
  {
   "cell_type": "markdown",
   "metadata": {
    "id": "g5q8dsdn-ysN"
   },
   "source": [
    "### **Inspección de las Predicciones del Modelo**\n",
    "\n",
    "En esta celda se realiza una verificación inicial de las predicciones generadas por el modelo al procesar un batch de datos. Esto asegura que las dimensiones de las predicciones coincidan con las expectativas.\n",
    "\n",
    "#### **Descripción de las Operaciones**\n",
    "1. **Obtención de un Batch**:\n",
    "   - Se toma el primer lote del dataset (`dataset.take(1)`) para probar las predicciones del modelo.\n",
    "\n",
    "2. **Generación de Predicciones**:\n",
    "   - El modelo procesa el batch de entrada (`input_example_batch`) y devuelve las predicciones.\n",
    "\n",
    "3. **Verificación de Dimensiones**:\n",
    "   - Las predicciones tienen las dimensiones `(batch_size, sequence_length, vocab_size)`, donde:\n",
    "     - `batch_size`: Número de ejemplos en el lote.\n",
    "     - `sequence_length`: Longitud de la secuencia de entrada.\n",
    "     - `vocab_size`: Número de posibles caracteres en el vocabulario (dimensión de la salida).\n",
    "\n",
    "Este paso permite verificar que el modelo produce salidas con las dimensiones esperadas.\n"
   ]
  },
  {
   "cell_type": "code",
   "execution_count": 17,
   "metadata": {
    "colab": {
     "base_uri": "https://localhost:8080/"
    },
    "id": "NjbTgZS2CUzO",
    "outputId": "03eaba40-501b-4fdd-a3b5-1549430e4461"
   },
   "outputs": [
    {
     "name": "stdout",
     "output_type": "stream",
     "text": [
      "Prediction :  (64, 100, 92) # (batch_size, sequence_length, vocab_size)\n"
     ]
    }
   ],
   "source": [
    "# Obtener un batch del dataset para probar las predicciones del modelo\n",
    "for input_example_batch, target_example_batch in dataset.take(1):  # Tomar un batch\n",
    "    # Generar predicciones para el batch de entrada utilizando el modelo\n",
    "    example_batch_predictions = model(input_example_batch)\n",
    "    # Imprimir las dimensiones de las predicciones\n",
    "    print(\"Prediction : \", example_batch_predictions.shape, \"# (batch_size, sequence_length, vocab_size)\")"
   ]
  },
  {
   "cell_type": "markdown",
   "metadata": {
    "id": "4ArngCBk_C9j"
   },
   "source": [
    "### **Obtención de una Muestra de la Distribución de Salida**\n",
    "\n",
    "En esta celda, se extrae una muestra de la distribución de salida del modelo para observar cómo se comporta al predecir caracteres en una secuencia.\n",
    "\n",
    "#### **Descripción de las Operaciones**\n",
    "1. **Selección de Muestras Aleatorias**:\n",
    "   - Se utiliza la función `tf.random.categorical` para muestrear índices de caracteres basados en las probabilidades predichas por el modelo (`example_batch_predictions[0]`).\n",
    "\n",
    "2. **Transformación de Resultados**:\n",
    "   - Los índices generados se procesan con `tf.squeeze` para eliminar la dimensión innecesaria, convirtiéndolos en un array numpy con los índices seleccionados.\n",
    "\n",
    "Este proceso permite observar qué caracteres el modelo considera más probables en cada posición, según la distribución de salida.\n"
   ]
  },
  {
   "cell_type": "code",
   "execution_count": 18,
   "metadata": {
    "id": "y7gp_axeCpnI"
   },
   "outputs": [],
   "source": [
    "# Extraer muestras de la distribución de salida para una secuencia\n",
    "# Seleccionar índices aleatorios basados en las probabilidades predichas por el modelo\n",
    "sampled_indices = tf.random.categorical(example_batch_predictions[0], num_samples=1)\n",
    "\n",
    "# Transformar los índices seleccionados en un array eliminando dimensiones innecesarias\n",
    "sampled_indices_characters = tf.squeeze(sampled_indices, axis=-1).numpy()"
   ]
  },
  {
   "cell_type": "markdown",
   "metadata": {
    "id": "ii0WdJU-_OBH"
   },
   "source": [
    "### **Visualización de los Índices Muestreados**\n",
    "\n",
    "En esta celda se imprimen los índices muestreados de la distribución de salida del modelo. Estos índices corresponden a caracteres específicos en el vocabulario y permiten observar cuáles fueron seleccionados durante el muestreo aleatorio.\n",
    "\n",
    "#### **Propósito**\n",
    "- Validar que el proceso de muestreo se realizó correctamente.\n",
    "- Confirmar que los índices generados están dentro del rango del vocabulario definido.\n",
    "\n",
    "Este paso es una verificación rápida para asegurar que las muestras obtenidas son consistentes con las predicciones del modelo.\n"
   ]
  },
  {
   "cell_type": "code",
   "execution_count": 19,
   "metadata": {
    "colab": {
     "base_uri": "https://localhost:8080/"
    },
    "id": "-L8mDKIdCpp_",
    "outputId": "531df327-92e1-487b-94df-610334c031f3"
   },
   "outputs": [
    {
     "name": "stdout",
     "output_type": "stream",
     "text": [
      "[ 6 12 55 81 68 38 27 69 22 13 76 63 84 53 28  5 18 23 85 68 22 61 40  0\n",
      " 40 21 29  7 26 64  4 64  8  4  3 70 72 23 70 56 55 55 86 56 22 13 79 69\n",
      " 17 29 31  1 69 51 62 42 20  6 27 56 68 55 88 19 88 22 69 47  1  2 62 79\n",
      "  5 79 35 85 34 25 84 41 55  5 40  5 46 15  9 85 52  6 24  4 30 14 20 62\n",
      " 37  9 64  0]\n"
     ]
    }
   ],
   "source": [
    "# Imprimir los índices muestreados de la distribución de salida del modelo\n",
    "print(sampled_indices_characters)"
   ]
  },
  {
   "cell_type": "markdown",
   "metadata": {
    "id": "_3BAQjg__Wxi"
   },
   "source": [
    "### **Definición de la Función de Pérdida**\n",
    "\n",
    "En esta celda, se define la función de pérdida que será utilizada para entrenar el modelo. Dado que el problema implica predecir caracteres, que son datos categóricos, se utiliza la pérdida de entropía cruzada categórica.\n",
    "\n",
    "#### **Detalles de la Función**\n",
    "- **`labels`**: Etiquetas reales, correspondientes a los índices de los caracteres objetivo.\n",
    "- **`logits`**: Predicciones del modelo, que son las probabilidades de cada carácter en el vocabulario.\n",
    "- **`from_logits=True`**:\n",
    "  - Indica que las salidas del modelo (`logits`) no han pasado por una función de activación como softmax. TensorFlow aplicará automáticamente el softmax dentro de la función de pérdida.\n",
    "\n",
    "Esta función mide la discrepancia entre las distribuciones de las etiquetas reales y las predicciones del modelo, guiando el ajuste de los pesos durante el entrenamiento.\n"
   ]
  },
  {
   "cell_type": "code",
   "execution_count": 20,
   "metadata": {
    "id": "uKqSJOP_Cpso"
   },
   "outputs": [],
   "source": [
    "# Definir la función de pérdida para el entrenamiento del modelo\n",
    "# Se utiliza sparse_categorical_crossentropy porque las etiquetas son índices categóricos\n",
    "def loss(labels, logits):\n",
    "    # Calcular la entropía cruzada categórica\n",
    "    return tf.keras.losses.sparse_categorical_crossentropy(labels, logits, from_logits=True)"
   ]
  },
  {
   "cell_type": "markdown",
   "metadata": {
    "id": "3wlA007nAB6J"
   },
   "source": [
    "### **Compilación del Modelo**\n",
    "\n",
    "En esta celda, se realiza la compilación del modelo antes de comenzar el entrenamiento. La compilación define cómo se optimizarán los pesos y qué métrica de error se utilizará durante el entrenamiento.\n",
    "\n",
    "#### **Parámetros de Compilación**\n",
    "1. **`optimizer='adam'`**:\n",
    "   - Se utiliza el optimizador Adam, conocido por su eficiencia y estabilidad en problemas de aprendizaje profundo. Combina las ventajas de `RMSprop` y `Momentum`.\n",
    "\n",
    "2. **`loss=loss`**:\n",
    "   - La función de pérdida previamente definida (`sparse_categorical_crossentropy`) se pasa como argumento para calcular el error en las predicciones categóricas.\n",
    "\n",
    "Esta configuración garantiza que el modelo esté listo para entrenarse con un esquema de optimización eficiente y una métrica de pérdida adecuada."
   ]
  },
  {
   "cell_type": "code",
   "execution_count": 21,
   "metadata": {
    "id": "YPNOYQq9Cpu-"
   },
   "outputs": [],
   "source": [
    "# Compilar el modelo para el entrenamiento\n",
    "model.compile(\n",
    "    optimizer='adam',  # Utilizar el optimizador Adam para ajustar los pesos\n",
    "    loss=loss  # Usar la función de pérdida definida para datos categóricos\n",
    ")"
   ]
  },
  {
   "cell_type": "markdown",
   "metadata": {
    "id": "ZlL0BdZEAQDe"
   },
   "source": [
    "### **Configuración de Checkpoints**\n",
    "\n",
    "En esta celda se configuran los checkpoints para guardar los pesos del modelo durante el entrenamiento. Esto permite reanudar el entrenamiento o utilizar pesos específicos en el futuro sin necesidad de entrenar desde cero.\n",
    "\n",
    "#### **Pasos Realizados**\n",
    "1. **Definición del Directorio de Checkpoints**:\n",
    "   - `checkpoint_dir`: Directorio donde se almacenarán los archivos de pesos del modelo.\n",
    "\n",
    "2. **Definición del Nombre del Archivo**:\n",
    "   - `checkpoint_prefix`: Define el prefijo de los nombres de archivo, que incluye el número de época (`ckpt_{epoch}.weights.h5`).\n",
    "\n",
    "3. **Configuración del Callback**:\n",
    "   - Se utiliza `tf.keras.callbacks.ModelCheckpoint` para guardar los pesos en cada época.\n",
    "   - Parámetro `save_weights_only=True` indica que solo se guardan los pesos del modelo, sin incluir la arquitectura.\n",
    "\n",
    "Esta configuración garantiza que el progreso del entrenamiento se pueda guardar y reutilizar de manera eficiente.\n"
   ]
  },
  {
   "cell_type": "code",
   "execution_count": 22,
   "metadata": {
    "id": "qqxhp8m-Cpw1"
   },
   "outputs": [],
   "source": [
    "# Definir el directorio donde se guardarán los checkpoints\n",
    "checkpoint_dir = './training_checkpoints_Casado'\n",
    "\n",
    "# Crear un prefijo para los archivos de checkpoint con el número de época\n",
    "checkpoint_prefix = os.path.join(checkpoint_dir, \"ckpt_{epoch}.weights.h5\")\n",
    "\n",
    "# Configurar el callback para guardar los checkpoints durante el entrenamiento\n",
    "checkpoint_callback = tf.keras.callbacks.ModelCheckpoint(\n",
    "    filepath=checkpoint_prefix,  # Ruta donde se guardarán los archivos\n",
    "    save_weights_only=True  # Guardar solo los pesos del modelo\n",
    ")"
   ]
  },
  {
   "cell_type": "markdown",
   "metadata": {
    "id": "b42OvuAzAav5"
   },
   "source": [
    "### **Resumen del Modelo**\n",
    "\n",
    "La función `model.summary()` se utiliza para visualizar la arquitectura del modelo. Proporciona información detallada sobre cada capa del modelo."
   ]
  },
  {
   "cell_type": "code",
   "execution_count": 23,
   "metadata": {
    "colab": {
     "base_uri": "https://localhost:8080/",
     "height": 408
    },
    "id": "EQ9G4bc7-WKn",
    "outputId": "e3a5ceeb-23ed-4f24-b831-cf5957c43b61"
   },
   "outputs": [
    {
     "data": {
      "text/html": [
       "<pre style=\"white-space:pre;overflow-x:auto;line-height:normal;font-family:Menlo,'DejaVu Sans Mono',consolas,'Courier New',monospace\"><span style=\"font-weight: bold\">Model: \"sequential\"</span>\n",
       "</pre>\n"
      ],
      "text/plain": [
       "\u001b[1mModel: \"sequential\"\u001b[0m\n"
      ]
     },
     "metadata": {},
     "output_type": "display_data"
    },
    {
     "data": {
      "text/html": [
       "<pre style=\"white-space:pre;overflow-x:auto;line-height:normal;font-family:Menlo,'DejaVu Sans Mono',consolas,'Courier New',monospace\">┏━━━━━━━━━━━━━━━━━━━━━━━━━━━━━━━━━━━━━━┳━━━━━━━━━━━━━━━━━━━━━━━━━━━━━┳━━━━━━━━━━━━━━━━━┓\n",
       "┃<span style=\"font-weight: bold\"> Layer (type)                         </span>┃<span style=\"font-weight: bold\"> Output Shape                </span>┃<span style=\"font-weight: bold\">         Param # </span>┃\n",
       "┡━━━━━━━━━━━━━━━━━━━━━━━━━━━━━━━━━━━━━━╇━━━━━━━━━━━━━━━━━━━━━━━━━━━━━╇━━━━━━━━━━━━━━━━━┩\n",
       "│ embedding (<span style=\"color: #0087ff; text-decoration-color: #0087ff\">Embedding</span>)                │ (<span style=\"color: #00af00; text-decoration-color: #00af00\">64</span>, <span style=\"color: #00af00; text-decoration-color: #00af00\">100</span>, <span style=\"color: #00af00; text-decoration-color: #00af00\">256</span>)              │          <span style=\"color: #00af00; text-decoration-color: #00af00\">23,552</span> │\n",
       "├──────────────────────────────────────┼─────────────────────────────┼─────────────────┤\n",
       "│ lstm (<span style=\"color: #0087ff; text-decoration-color: #0087ff\">LSTM</span>)                          │ (<span style=\"color: #00af00; text-decoration-color: #00af00\">64</span>, <span style=\"color: #00af00; text-decoration-color: #00af00\">100</span>, <span style=\"color: #00af00; text-decoration-color: #00af00\">1024</span>)             │       <span style=\"color: #00af00; text-decoration-color: #00af00\">5,246,976</span> │\n",
       "├──────────────────────────────────────┼─────────────────────────────┼─────────────────┤\n",
       "│ dropout (<span style=\"color: #0087ff; text-decoration-color: #0087ff\">Dropout</span>)                    │ (<span style=\"color: #00af00; text-decoration-color: #00af00\">64</span>, <span style=\"color: #00af00; text-decoration-color: #00af00\">100</span>, <span style=\"color: #00af00; text-decoration-color: #00af00\">1024</span>)             │               <span style=\"color: #00af00; text-decoration-color: #00af00\">0</span> │\n",
       "├──────────────────────────────────────┼─────────────────────────────┼─────────────────┤\n",
       "│ lstm_1 (<span style=\"color: #0087ff; text-decoration-color: #0087ff\">LSTM</span>)                        │ (<span style=\"color: #00af00; text-decoration-color: #00af00\">64</span>, <span style=\"color: #00af00; text-decoration-color: #00af00\">100</span>, <span style=\"color: #00af00; text-decoration-color: #00af00\">512</span>)              │       <span style=\"color: #00af00; text-decoration-color: #00af00\">3,147,776</span> │\n",
       "├──────────────────────────────────────┼─────────────────────────────┼─────────────────┤\n",
       "│ dropout_1 (<span style=\"color: #0087ff; text-decoration-color: #0087ff\">Dropout</span>)                  │ (<span style=\"color: #00af00; text-decoration-color: #00af00\">64</span>, <span style=\"color: #00af00; text-decoration-color: #00af00\">100</span>, <span style=\"color: #00af00; text-decoration-color: #00af00\">512</span>)              │               <span style=\"color: #00af00; text-decoration-color: #00af00\">0</span> │\n",
       "├──────────────────────────────────────┼─────────────────────────────┼─────────────────┤\n",
       "│ dense (<span style=\"color: #0087ff; text-decoration-color: #0087ff\">Dense</span>)                        │ (<span style=\"color: #00af00; text-decoration-color: #00af00\">64</span>, <span style=\"color: #00af00; text-decoration-color: #00af00\">100</span>, <span style=\"color: #00af00; text-decoration-color: #00af00\">512</span>)              │         <span style=\"color: #00af00; text-decoration-color: #00af00\">262,656</span> │\n",
       "├──────────────────────────────────────┼─────────────────────────────┼─────────────────┤\n",
       "│ dropout_2 (<span style=\"color: #0087ff; text-decoration-color: #0087ff\">Dropout</span>)                  │ (<span style=\"color: #00af00; text-decoration-color: #00af00\">64</span>, <span style=\"color: #00af00; text-decoration-color: #00af00\">100</span>, <span style=\"color: #00af00; text-decoration-color: #00af00\">512</span>)              │               <span style=\"color: #00af00; text-decoration-color: #00af00\">0</span> │\n",
       "├──────────────────────────────────────┼─────────────────────────────┼─────────────────┤\n",
       "│ dense_1 (<span style=\"color: #0087ff; text-decoration-color: #0087ff\">Dense</span>)                      │ (<span style=\"color: #00af00; text-decoration-color: #00af00\">64</span>, <span style=\"color: #00af00; text-decoration-color: #00af00\">100</span>, <span style=\"color: #00af00; text-decoration-color: #00af00\">92</span>)               │          <span style=\"color: #00af00; text-decoration-color: #00af00\">47,196</span> │\n",
       "└──────────────────────────────────────┴─────────────────────────────┴─────────────────┘\n",
       "</pre>\n"
      ],
      "text/plain": [
       "┏━━━━━━━━━━━━━━━━━━━━━━━━━━━━━━━━━━━━━━┳━━━━━━━━━━━━━━━━━━━━━━━━━━━━━┳━━━━━━━━━━━━━━━━━┓\n",
       "┃\u001b[1m \u001b[0m\u001b[1mLayer (type)                        \u001b[0m\u001b[1m \u001b[0m┃\u001b[1m \u001b[0m\u001b[1mOutput Shape               \u001b[0m\u001b[1m \u001b[0m┃\u001b[1m \u001b[0m\u001b[1m        Param #\u001b[0m\u001b[1m \u001b[0m┃\n",
       "┡━━━━━━━━━━━━━━━━━━━━━━━━━━━━━━━━━━━━━━╇━━━━━━━━━━━━━━━━━━━━━━━━━━━━━╇━━━━━━━━━━━━━━━━━┩\n",
       "│ embedding (\u001b[38;5;33mEmbedding\u001b[0m)                │ (\u001b[38;5;34m64\u001b[0m, \u001b[38;5;34m100\u001b[0m, \u001b[38;5;34m256\u001b[0m)              │          \u001b[38;5;34m23,552\u001b[0m │\n",
       "├──────────────────────────────────────┼─────────────────────────────┼─────────────────┤\n",
       "│ lstm (\u001b[38;5;33mLSTM\u001b[0m)                          │ (\u001b[38;5;34m64\u001b[0m, \u001b[38;5;34m100\u001b[0m, \u001b[38;5;34m1024\u001b[0m)             │       \u001b[38;5;34m5,246,976\u001b[0m │\n",
       "├──────────────────────────────────────┼─────────────────────────────┼─────────────────┤\n",
       "│ dropout (\u001b[38;5;33mDropout\u001b[0m)                    │ (\u001b[38;5;34m64\u001b[0m, \u001b[38;5;34m100\u001b[0m, \u001b[38;5;34m1024\u001b[0m)             │               \u001b[38;5;34m0\u001b[0m │\n",
       "├──────────────────────────────────────┼─────────────────────────────┼─────────────────┤\n",
       "│ lstm_1 (\u001b[38;5;33mLSTM\u001b[0m)                        │ (\u001b[38;5;34m64\u001b[0m, \u001b[38;5;34m100\u001b[0m, \u001b[38;5;34m512\u001b[0m)              │       \u001b[38;5;34m3,147,776\u001b[0m │\n",
       "├──────────────────────────────────────┼─────────────────────────────┼─────────────────┤\n",
       "│ dropout_1 (\u001b[38;5;33mDropout\u001b[0m)                  │ (\u001b[38;5;34m64\u001b[0m, \u001b[38;5;34m100\u001b[0m, \u001b[38;5;34m512\u001b[0m)              │               \u001b[38;5;34m0\u001b[0m │\n",
       "├──────────────────────────────────────┼─────────────────────────────┼─────────────────┤\n",
       "│ dense (\u001b[38;5;33mDense\u001b[0m)                        │ (\u001b[38;5;34m64\u001b[0m, \u001b[38;5;34m100\u001b[0m, \u001b[38;5;34m512\u001b[0m)              │         \u001b[38;5;34m262,656\u001b[0m │\n",
       "├──────────────────────────────────────┼─────────────────────────────┼─────────────────┤\n",
       "│ dropout_2 (\u001b[38;5;33mDropout\u001b[0m)                  │ (\u001b[38;5;34m64\u001b[0m, \u001b[38;5;34m100\u001b[0m, \u001b[38;5;34m512\u001b[0m)              │               \u001b[38;5;34m0\u001b[0m │\n",
       "├──────────────────────────────────────┼─────────────────────────────┼─────────────────┤\n",
       "│ dense_1 (\u001b[38;5;33mDense\u001b[0m)                      │ (\u001b[38;5;34m64\u001b[0m, \u001b[38;5;34m100\u001b[0m, \u001b[38;5;34m92\u001b[0m)               │          \u001b[38;5;34m47,196\u001b[0m │\n",
       "└──────────────────────────────────────┴─────────────────────────────┴─────────────────┘\n"
      ]
     },
     "metadata": {},
     "output_type": "display_data"
    },
    {
     "data": {
      "text/html": [
       "<pre style=\"white-space:pre;overflow-x:auto;line-height:normal;font-family:Menlo,'DejaVu Sans Mono',consolas,'Courier New',monospace\"><span style=\"font-weight: bold\"> Total params: </span><span style=\"color: #00af00; text-decoration-color: #00af00\">8,728,156</span> (33.30 MB)\n",
       "</pre>\n"
      ],
      "text/plain": [
       "\u001b[1m Total params: \u001b[0m\u001b[38;5;34m8,728,156\u001b[0m (33.30 MB)\n"
      ]
     },
     "metadata": {},
     "output_type": "display_data"
    },
    {
     "data": {
      "text/html": [
       "<pre style=\"white-space:pre;overflow-x:auto;line-height:normal;font-family:Menlo,'DejaVu Sans Mono',consolas,'Courier New',monospace\"><span style=\"font-weight: bold\"> Trainable params: </span><span style=\"color: #00af00; text-decoration-color: #00af00\">8,728,156</span> (33.30 MB)\n",
       "</pre>\n"
      ],
      "text/plain": [
       "\u001b[1m Trainable params: \u001b[0m\u001b[38;5;34m8,728,156\u001b[0m (33.30 MB)\n"
      ]
     },
     "metadata": {},
     "output_type": "display_data"
    },
    {
     "data": {
      "text/html": [
       "<pre style=\"white-space:pre;overflow-x:auto;line-height:normal;font-family:Menlo,'DejaVu Sans Mono',consolas,'Courier New',monospace\"><span style=\"font-weight: bold\"> Non-trainable params: </span><span style=\"color: #00af00; text-decoration-color: #00af00\">0</span> (0.00 B)\n",
       "</pre>\n"
      ],
      "text/plain": [
       "\u001b[1m Non-trainable params: \u001b[0m\u001b[38;5;34m0\u001b[0m (0.00 B)\n"
      ]
     },
     "metadata": {},
     "output_type": "display_data"
    }
   ],
   "source": [
    "# Mostrar el resumen del modelo, incluyendo las dimensiones de salida y el número de parámetros\n",
    "model.summary()"
   ]
  },
  {
   "cell_type": "markdown",
   "metadata": {
    "id": "wmPT2IxNAmpv"
   },
   "source": [
    "### **Entrenamiento del Modelo**\n",
    "\n",
    "En esta celda se entrena el modelo utilizando el conjunto de datos preparado y aplicando callbacks que mejoran la eficiencia y calidad del entrenamiento.\n",
    "\n",
    "#### **Parámetros Principales**\n",
    "1. **`EPOCHS`**:\n",
    "   - Número de épocas definido en 150, lo que indica el número máximo de iteraciones sobre el dataset.\n",
    "\n",
    "2. **Callbacks Utilizados**:\n",
    "   - **`EarlyStopping`**:\n",
    "     - Monitorea la pérdida (`loss`) durante el entrenamiento.\n",
    "     - Detiene el entrenamiento si no hay mejora en la pérdida durante 5 épocas consecutivas.\n",
    "     - Restaura los mejores pesos encontrados.\n",
    "   - **`ReduceLROnPlateau`**:\n",
    "     - Reduce la tasa de aprendizaje si la pérdida deja de mejorar durante 3 épocas consecutivas.\n",
    "     - Esto ayuda a refinar los ajustes finales del modelo.\n",
    "\n",
    "3. **Entrenamiento**:\n",
    "   - El modelo se entrena en el dataset utilizando los callbacks para optimizar el rendimiento y evitar el sobreajuste.\n",
    "\n",
    "Este enfoque asegura un entrenamiento eficiente, optimizando los recursos computacionales y maximizando la calidad del modelo.\n"
   ]
  },
  {
   "cell_type": "code",
   "execution_count": 24,
   "metadata": {
    "colab": {
     "base_uri": "https://localhost:8080/"
    },
    "id": "SROaEjLNDCuF",
    "outputId": "39985ffc-abf9-4be7-de2a-3544c0f4612c"
   },
   "outputs": [
    {
     "name": "stdout",
     "output_type": "stream",
     "text": [
      "Epoch 1/150\n",
      "\u001b[1m16/16\u001b[0m \u001b[32m━━━━━━━━━━━━━━━━━━━━\u001b[0m\u001b[37m\u001b[0m \u001b[1m6s\u001b[0m 119ms/step - loss: 3.8995 - learning_rate: 0.0010\n",
      "Epoch 2/150\n",
      "\u001b[1m16/16\u001b[0m \u001b[32m━━━━━━━━━━━━━━━━━━━━\u001b[0m\u001b[37m\u001b[0m \u001b[1m2s\u001b[0m 115ms/step - loss: 3.1639 - learning_rate: 0.0010\n",
      "Epoch 3/150\n",
      "\u001b[1m16/16\u001b[0m \u001b[32m━━━━━━━━━━━━━━━━━━━━\u001b[0m\u001b[37m\u001b[0m \u001b[1m2s\u001b[0m 116ms/step - loss: 3.1093 - learning_rate: 0.0010\n",
      "Epoch 4/150\n",
      "\u001b[1m16/16\u001b[0m \u001b[32m━━━━━━━━━━━━━━━━━━━━\u001b[0m\u001b[37m\u001b[0m \u001b[1m2s\u001b[0m 115ms/step - loss: 3.0312 - learning_rate: 0.0010\n",
      "Epoch 5/150\n",
      "\u001b[1m16/16\u001b[0m \u001b[32m━━━━━━━━━━━━━━━━━━━━\u001b[0m\u001b[37m\u001b[0m \u001b[1m2s\u001b[0m 116ms/step - loss: 2.8616 - learning_rate: 0.0010\n",
      "Epoch 6/150\n",
      "\u001b[1m16/16\u001b[0m \u001b[32m━━━━━━━━━━━━━━━━━━━━\u001b[0m\u001b[37m\u001b[0m \u001b[1m3s\u001b[0m 117ms/step - loss: 2.6701 - learning_rate: 0.0010\n",
      "Epoch 7/150\n",
      "\u001b[1m16/16\u001b[0m \u001b[32m━━━━━━━━━━━━━━━━━━━━\u001b[0m\u001b[37m\u001b[0m \u001b[1m3s\u001b[0m 117ms/step - loss: 2.5393 - learning_rate: 0.0010\n",
      "Epoch 8/150\n",
      "\u001b[1m16/16\u001b[0m \u001b[32m━━━━━━━━━━━━━━━━━━━━\u001b[0m\u001b[37m\u001b[0m \u001b[1m2s\u001b[0m 117ms/step - loss: 2.4770 - learning_rate: 0.0010\n",
      "Epoch 9/150\n",
      "\u001b[1m16/16\u001b[0m \u001b[32m━━━━━━━━━━━━━━━━━━━━\u001b[0m\u001b[37m\u001b[0m \u001b[1m3s\u001b[0m 117ms/step - loss: 2.4143 - learning_rate: 0.0010\n",
      "Epoch 10/150\n",
      "\u001b[1m16/16\u001b[0m \u001b[32m━━━━━━━━━━━━━━━━━━━━\u001b[0m\u001b[37m\u001b[0m \u001b[1m2s\u001b[0m 118ms/step - loss: 2.3634 - learning_rate: 0.0010\n",
      "Epoch 11/150\n",
      "\u001b[1m16/16\u001b[0m \u001b[32m━━━━━━━━━━━━━━━━━━━━\u001b[0m\u001b[37m\u001b[0m \u001b[1m2s\u001b[0m 118ms/step - loss: 2.3101 - learning_rate: 0.0010\n",
      "Epoch 12/150\n",
      "\u001b[1m16/16\u001b[0m \u001b[32m━━━━━━━━━━━━━━━━━━━━\u001b[0m\u001b[37m\u001b[0m \u001b[1m2s\u001b[0m 117ms/step - loss: 2.2691 - learning_rate: 0.0010\n",
      "Epoch 13/150\n",
      "\u001b[1m16/16\u001b[0m \u001b[32m━━━━━━━━━━━━━━━━━━━━\u001b[0m\u001b[37m\u001b[0m \u001b[1m2s\u001b[0m 118ms/step - loss: 2.2187 - learning_rate: 0.0010\n",
      "Epoch 14/150\n",
      "\u001b[1m16/16\u001b[0m \u001b[32m━━━━━━━━━━━━━━━━━━━━\u001b[0m\u001b[37m\u001b[0m \u001b[1m2s\u001b[0m 120ms/step - loss: 2.1860 - learning_rate: 0.0010\n",
      "Epoch 15/150\n",
      "\u001b[1m16/16\u001b[0m \u001b[32m━━━━━━━━━━━━━━━━━━━━\u001b[0m\u001b[37m\u001b[0m \u001b[1m2s\u001b[0m 118ms/step - loss: 2.1363 - learning_rate: 0.0010\n",
      "Epoch 16/150\n",
      "\u001b[1m16/16\u001b[0m \u001b[32m━━━━━━━━━━━━━━━━━━━━\u001b[0m\u001b[37m\u001b[0m \u001b[1m2s\u001b[0m 119ms/step - loss: 2.0964 - learning_rate: 0.0010\n",
      "Epoch 17/150\n",
      "\u001b[1m16/16\u001b[0m \u001b[32m━━━━━━━━━━━━━━━━━━━━\u001b[0m\u001b[37m\u001b[0m \u001b[1m3s\u001b[0m 119ms/step - loss: 2.0501 - learning_rate: 0.0010\n",
      "Epoch 18/150\n",
      "\u001b[1m16/16\u001b[0m \u001b[32m━━━━━━━━━━━━━━━━━━━━\u001b[0m\u001b[37m\u001b[0m \u001b[1m2s\u001b[0m 118ms/step - loss: 2.0136 - learning_rate: 0.0010\n",
      "Epoch 19/150\n",
      "\u001b[1m16/16\u001b[0m \u001b[32m━━━━━━━━━━━━━━━━━━━━\u001b[0m\u001b[37m\u001b[0m \u001b[1m2s\u001b[0m 121ms/step - loss: 1.9743 - learning_rate: 0.0010\n",
      "Epoch 20/150\n",
      "\u001b[1m16/16\u001b[0m \u001b[32m━━━━━━━━━━━━━━━━━━━━\u001b[0m\u001b[37m\u001b[0m \u001b[1m3s\u001b[0m 119ms/step - loss: 1.9423 - learning_rate: 0.0010\n",
      "Epoch 21/150\n",
      "\u001b[1m16/16\u001b[0m \u001b[32m━━━━━━━━━━━━━━━━━━━━\u001b[0m\u001b[37m\u001b[0m \u001b[1m2s\u001b[0m 119ms/step - loss: 1.9099 - learning_rate: 0.0010\n",
      "Epoch 22/150\n",
      "\u001b[1m16/16\u001b[0m \u001b[32m━━━━━━━━━━━━━━━━━━━━\u001b[0m\u001b[37m\u001b[0m \u001b[1m3s\u001b[0m 119ms/step - loss: 1.8647 - learning_rate: 0.0010\n",
      "Epoch 23/150\n",
      "\u001b[1m16/16\u001b[0m \u001b[32m━━━━━━━━━━━━━━━━━━━━\u001b[0m\u001b[37m\u001b[0m \u001b[1m2s\u001b[0m 119ms/step - loss: 1.8376 - learning_rate: 0.0010\n",
      "Epoch 24/150\n",
      "\u001b[1m16/16\u001b[0m \u001b[32m━━━━━━━━━━━━━━━━━━━━\u001b[0m\u001b[37m\u001b[0m \u001b[1m2s\u001b[0m 119ms/step - loss: 1.8193 - learning_rate: 0.0010\n",
      "Epoch 25/150\n",
      "\u001b[1m16/16\u001b[0m \u001b[32m━━━━━━━━━━━━━━━━━━━━\u001b[0m\u001b[37m\u001b[0m \u001b[1m2s\u001b[0m 121ms/step - loss: 1.7782 - learning_rate: 0.0010\n",
      "Epoch 26/150\n",
      "\u001b[1m16/16\u001b[0m \u001b[32m━━━━━━━━━━━━━━━━━━━━\u001b[0m\u001b[37m\u001b[0m \u001b[1m2s\u001b[0m 120ms/step - loss: 1.7568 - learning_rate: 0.0010\n",
      "Epoch 27/150\n",
      "\u001b[1m16/16\u001b[0m \u001b[32m━━━━━━━━━━━━━━━━━━━━\u001b[0m\u001b[37m\u001b[0m \u001b[1m2s\u001b[0m 120ms/step - loss: 1.7201 - learning_rate: 0.0010\n",
      "Epoch 28/150\n",
      "\u001b[1m16/16\u001b[0m \u001b[32m━━━━━━━━━━━━━━━━━━━━\u001b[0m\u001b[37m\u001b[0m \u001b[1m3s\u001b[0m 120ms/step - loss: 1.7028 - learning_rate: 0.0010\n",
      "Epoch 29/150\n",
      "\u001b[1m16/16\u001b[0m \u001b[32m━━━━━━━━━━━━━━━━━━━━\u001b[0m\u001b[37m\u001b[0m \u001b[1m3s\u001b[0m 120ms/step - loss: 1.6737 - learning_rate: 0.0010\n",
      "Epoch 30/150\n",
      "\u001b[1m16/16\u001b[0m \u001b[32m━━━━━━━━━━━━━━━━━━━━\u001b[0m\u001b[37m\u001b[0m \u001b[1m3s\u001b[0m 121ms/step - loss: 1.6438 - learning_rate: 0.0010\n",
      "Epoch 31/150\n",
      "\u001b[1m16/16\u001b[0m \u001b[32m━━━━━━━━━━━━━━━━━━━━\u001b[0m\u001b[37m\u001b[0m \u001b[1m3s\u001b[0m 120ms/step - loss: 1.6165 - learning_rate: 0.0010\n",
      "Epoch 32/150\n",
      "\u001b[1m16/16\u001b[0m \u001b[32m━━━━━━━━━━━━━━━━━━━━\u001b[0m\u001b[37m\u001b[0m \u001b[1m2s\u001b[0m 121ms/step - loss: 1.5898 - learning_rate: 0.0010\n",
      "Epoch 33/150\n",
      "\u001b[1m16/16\u001b[0m \u001b[32m━━━━━━━━━━━━━━━━━━━━\u001b[0m\u001b[37m\u001b[0m \u001b[1m3s\u001b[0m 120ms/step - loss: 1.5633 - learning_rate: 0.0010\n",
      "Epoch 34/150\n",
      "\u001b[1m16/16\u001b[0m \u001b[32m━━━━━━━━━━━━━━━━━━━━\u001b[0m\u001b[37m\u001b[0m \u001b[1m2s\u001b[0m 122ms/step - loss: 1.5499 - learning_rate: 0.0010\n",
      "Epoch 35/150\n",
      "\u001b[1m16/16\u001b[0m \u001b[32m━━━━━━━━━━━━━━━━━━━━\u001b[0m\u001b[37m\u001b[0m \u001b[1m2s\u001b[0m 123ms/step - loss: 1.5342 - learning_rate: 0.0010\n",
      "Epoch 36/150\n",
      "\u001b[1m16/16\u001b[0m \u001b[32m━━━━━━━━━━━━━━━━━━━━\u001b[0m\u001b[37m\u001b[0m \u001b[1m3s\u001b[0m 122ms/step - loss: 1.5075 - learning_rate: 0.0010\n",
      "Epoch 37/150\n",
      "\u001b[1m16/16\u001b[0m \u001b[32m━━━━━━━━━━━━━━━━━━━━\u001b[0m\u001b[37m\u001b[0m \u001b[1m2s\u001b[0m 122ms/step - loss: 1.4860 - learning_rate: 0.0010\n",
      "Epoch 38/150\n",
      "\u001b[1m16/16\u001b[0m \u001b[32m━━━━━━━━━━━━━━━━━━━━\u001b[0m\u001b[37m\u001b[0m \u001b[1m2s\u001b[0m 121ms/step - loss: 1.4753 - learning_rate: 0.0010\n",
      "Epoch 39/150\n",
      "\u001b[1m16/16\u001b[0m \u001b[32m━━━━━━━━━━━━━━━━━━━━\u001b[0m\u001b[37m\u001b[0m \u001b[1m2s\u001b[0m 121ms/step - loss: 1.4455 - learning_rate: 0.0010\n",
      "Epoch 40/150\n",
      "\u001b[1m16/16\u001b[0m \u001b[32m━━━━━━━━━━━━━━━━━━━━\u001b[0m\u001b[37m\u001b[0m \u001b[1m3s\u001b[0m 122ms/step - loss: 1.4384 - learning_rate: 0.0010\n",
      "Epoch 41/150\n",
      "\u001b[1m16/16\u001b[0m \u001b[32m━━━━━━━━━━━━━━━━━━━━\u001b[0m\u001b[37m\u001b[0m \u001b[1m3s\u001b[0m 123ms/step - loss: 1.4163 - learning_rate: 0.0010\n",
      "Epoch 42/150\n",
      "\u001b[1m16/16\u001b[0m \u001b[32m━━━━━━━━━━━━━━━━━━━━\u001b[0m\u001b[37m\u001b[0m \u001b[1m2s\u001b[0m 123ms/step - loss: 1.4073 - learning_rate: 0.0010\n",
      "Epoch 43/150\n",
      "\u001b[1m16/16\u001b[0m \u001b[32m━━━━━━━━━━━━━━━━━━━━\u001b[0m\u001b[37m\u001b[0m \u001b[1m3s\u001b[0m 123ms/step - loss: 1.3841 - learning_rate: 0.0010\n",
      "Epoch 44/150\n",
      "\u001b[1m16/16\u001b[0m \u001b[32m━━━━━━━━━━━━━━━━━━━━\u001b[0m\u001b[37m\u001b[0m \u001b[1m2s\u001b[0m 123ms/step - loss: 1.3753 - learning_rate: 0.0010\n",
      "Epoch 45/150\n",
      "\u001b[1m16/16\u001b[0m \u001b[32m━━━━━━━━━━━━━━━━━━━━\u001b[0m\u001b[37m\u001b[0m \u001b[1m3s\u001b[0m 121ms/step - loss: 1.3542 - learning_rate: 0.0010\n",
      "Epoch 46/150\n",
      "\u001b[1m16/16\u001b[0m \u001b[32m━━━━━━━━━━━━━━━━━━━━\u001b[0m\u001b[37m\u001b[0m \u001b[1m3s\u001b[0m 123ms/step - loss: 1.3499 - learning_rate: 0.0010\n",
      "Epoch 47/150\n",
      "\u001b[1m16/16\u001b[0m \u001b[32m━━━━━━━━━━━━━━━━━━━━\u001b[0m\u001b[37m\u001b[0m \u001b[1m3s\u001b[0m 121ms/step - loss: 1.3241 - learning_rate: 0.0010\n",
      "Epoch 48/150\n",
      "\u001b[1m16/16\u001b[0m \u001b[32m━━━━━━━━━━━━━━━━━━━━\u001b[0m\u001b[37m\u001b[0m \u001b[1m3s\u001b[0m 120ms/step - loss: 1.3097 - learning_rate: 0.0010\n",
      "Epoch 49/150\n",
      "\u001b[1m16/16\u001b[0m \u001b[32m━━━━━━━━━━━━━━━━━━━━\u001b[0m\u001b[37m\u001b[0m \u001b[1m2s\u001b[0m 121ms/step - loss: 1.3062 - learning_rate: 0.0010\n",
      "Epoch 50/150\n",
      "\u001b[1m16/16\u001b[0m \u001b[32m━━━━━━━━━━━━━━━━━━━━\u001b[0m\u001b[37m\u001b[0m \u001b[1m2s\u001b[0m 121ms/step - loss: 1.2876 - learning_rate: 0.0010\n",
      "Epoch 51/150\n",
      "\u001b[1m16/16\u001b[0m \u001b[32m━━━━━━━━━━━━━━━━━━━━\u001b[0m\u001b[37m\u001b[0m \u001b[1m2s\u001b[0m 121ms/step - loss: 1.2722 - learning_rate: 0.0010\n",
      "Epoch 52/150\n",
      "\u001b[1m16/16\u001b[0m \u001b[32m━━━━━━━━━━━━━━━━━━━━\u001b[0m\u001b[37m\u001b[0m \u001b[1m3s\u001b[0m 121ms/step - loss: 1.2658 - learning_rate: 0.0010\n",
      "Epoch 53/150\n",
      "\u001b[1m16/16\u001b[0m \u001b[32m━━━━━━━━━━━━━━━━━━━━\u001b[0m\u001b[37m\u001b[0m \u001b[1m2s\u001b[0m 120ms/step - loss: 1.2509 - learning_rate: 0.0010\n",
      "Epoch 54/150\n",
      "\u001b[1m16/16\u001b[0m \u001b[32m━━━━━━━━━━━━━━━━━━━━\u001b[0m\u001b[37m\u001b[0m \u001b[1m3s\u001b[0m 120ms/step - loss: 1.2325 - learning_rate: 0.0010\n",
      "Epoch 55/150\n",
      "\u001b[1m16/16\u001b[0m \u001b[32m━━━━━━━━━━━━━━━━━━━━\u001b[0m\u001b[37m\u001b[0m \u001b[1m2s\u001b[0m 121ms/step - loss: 1.2223 - learning_rate: 0.0010\n",
      "Epoch 56/150\n",
      "\u001b[1m16/16\u001b[0m \u001b[32m━━━━━━━━━━━━━━━━━━━━\u001b[0m\u001b[37m\u001b[0m \u001b[1m3s\u001b[0m 121ms/step - loss: 1.2128 - learning_rate: 0.0010\n",
      "Epoch 57/150\n",
      "\u001b[1m16/16\u001b[0m \u001b[32m━━━━━━━━━━━━━━━━━━━━\u001b[0m\u001b[37m\u001b[0m \u001b[1m2s\u001b[0m 121ms/step - loss: 1.1990 - learning_rate: 0.0010\n",
      "Epoch 58/150\n",
      "\u001b[1m16/16\u001b[0m \u001b[32m━━━━━━━━━━━━━━━━━━━━\u001b[0m\u001b[37m\u001b[0m \u001b[1m2s\u001b[0m 121ms/step - loss: 1.1991 - learning_rate: 0.0010\n",
      "Epoch 59/150\n",
      "\u001b[1m16/16\u001b[0m \u001b[32m━━━━━━━━━━━━━━━━━━━━\u001b[0m\u001b[37m\u001b[0m \u001b[1m3s\u001b[0m 120ms/step - loss: 1.1708 - learning_rate: 0.0010\n",
      "Epoch 60/150\n",
      "\u001b[1m16/16\u001b[0m \u001b[32m━━━━━━━━━━━━━━━━━━━━\u001b[0m\u001b[37m\u001b[0m \u001b[1m3s\u001b[0m 120ms/step - loss: 1.1688 - learning_rate: 0.0010\n",
      "Epoch 61/150\n",
      "\u001b[1m16/16\u001b[0m \u001b[32m━━━━━━━━━━━━━━━━━━━━\u001b[0m\u001b[37m\u001b[0m \u001b[1m2s\u001b[0m 121ms/step - loss: 1.1522 - learning_rate: 0.0010\n",
      "Epoch 62/150\n",
      "\u001b[1m16/16\u001b[0m \u001b[32m━━━━━━━━━━━━━━━━━━━━\u001b[0m\u001b[37m\u001b[0m \u001b[1m3s\u001b[0m 121ms/step - loss: 1.1500 - learning_rate: 0.0010\n",
      "Epoch 63/150\n",
      "\u001b[1m16/16\u001b[0m \u001b[32m━━━━━━━━━━━━━━━━━━━━\u001b[0m\u001b[37m\u001b[0m \u001b[1m2s\u001b[0m 121ms/step - loss: 1.1285 - learning_rate: 0.0010\n",
      "Epoch 64/150\n",
      "\u001b[1m16/16\u001b[0m \u001b[32m━━━━━━━━━━━━━━━━━━━━\u001b[0m\u001b[37m\u001b[0m \u001b[1m3s\u001b[0m 122ms/step - loss: 1.1184 - learning_rate: 0.0010\n",
      "Epoch 65/150\n",
      "\u001b[1m16/16\u001b[0m \u001b[32m━━━━━━━━━━━━━━━━━━━━\u001b[0m\u001b[37m\u001b[0m \u001b[1m2s\u001b[0m 120ms/step - loss: 1.1156 - learning_rate: 0.0010\n",
      "Epoch 66/150\n",
      "\u001b[1m16/16\u001b[0m \u001b[32m━━━━━━━━━━━━━━━━━━━━\u001b[0m\u001b[37m\u001b[0m \u001b[1m3s\u001b[0m 121ms/step - loss: 1.0978 - learning_rate: 0.0010\n",
      "Epoch 67/150\n",
      "\u001b[1m16/16\u001b[0m \u001b[32m━━━━━━━━━━━━━━━━━━━━\u001b[0m\u001b[37m\u001b[0m \u001b[1m3s\u001b[0m 123ms/step - loss: 1.0863 - learning_rate: 0.0010\n",
      "Epoch 68/150\n",
      "\u001b[1m16/16\u001b[0m \u001b[32m━━━━━━━━━━━━━━━━━━━━\u001b[0m\u001b[37m\u001b[0m \u001b[1m2s\u001b[0m 121ms/step - loss: 1.0730 - learning_rate: 0.0010\n",
      "Epoch 69/150\n",
      "\u001b[1m16/16\u001b[0m \u001b[32m━━━━━━━━━━━━━━━━━━━━\u001b[0m\u001b[37m\u001b[0m \u001b[1m2s\u001b[0m 120ms/step - loss: 1.0595 - learning_rate: 0.0010\n",
      "Epoch 70/150\n",
      "\u001b[1m16/16\u001b[0m \u001b[32m━━━━━━━━━━━━━━━━━━━━\u001b[0m\u001b[37m\u001b[0m \u001b[1m3s\u001b[0m 120ms/step - loss: 1.0525 - learning_rate: 0.0010\n",
      "Epoch 71/150\n",
      "\u001b[1m16/16\u001b[0m \u001b[32m━━━━━━━━━━━━━━━━━━━━\u001b[0m\u001b[37m\u001b[0m \u001b[1m3s\u001b[0m 122ms/step - loss: 1.0405 - learning_rate: 0.0010\n",
      "Epoch 72/150\n",
      "\u001b[1m16/16\u001b[0m \u001b[32m━━━━━━━━━━━━━━━━━━━━\u001b[0m\u001b[37m\u001b[0m \u001b[1m2s\u001b[0m 123ms/step - loss: 1.0296 - learning_rate: 0.0010\n",
      "Epoch 73/150\n",
      "\u001b[1m16/16\u001b[0m \u001b[32m━━━━━━━━━━━━━━━━━━━━\u001b[0m\u001b[37m\u001b[0m \u001b[1m2s\u001b[0m 121ms/step - loss: 1.0178 - learning_rate: 0.0010\n",
      "Epoch 74/150\n",
      "\u001b[1m16/16\u001b[0m \u001b[32m━━━━━━━━━━━━━━━━━━━━\u001b[0m\u001b[37m\u001b[0m \u001b[1m2s\u001b[0m 123ms/step - loss: 1.0099 - learning_rate: 0.0010\n",
      "Epoch 75/150\n",
      "\u001b[1m16/16\u001b[0m \u001b[32m━━━━━━━━━━━━━━━━━━━━\u001b[0m\u001b[37m\u001b[0m \u001b[1m3s\u001b[0m 122ms/step - loss: 1.0035 - learning_rate: 0.0010\n",
      "Epoch 76/150\n",
      "\u001b[1m16/16\u001b[0m \u001b[32m━━━━━━━━━━━━━━━━━━━━\u001b[0m\u001b[37m\u001b[0m \u001b[1m3s\u001b[0m 121ms/step - loss: 0.9924 - learning_rate: 0.0010\n",
      "Epoch 77/150\n",
      "\u001b[1m16/16\u001b[0m \u001b[32m━━━━━━━━━━━━━━━━━━━━\u001b[0m\u001b[37m\u001b[0m \u001b[1m3s\u001b[0m 122ms/step - loss: 0.9838 - learning_rate: 0.0010\n",
      "Epoch 78/150\n",
      "\u001b[1m16/16\u001b[0m \u001b[32m━━━━━━━━━━━━━━━━━━━━\u001b[0m\u001b[37m\u001b[0m \u001b[1m2s\u001b[0m 121ms/step - loss: 0.9670 - learning_rate: 0.0010\n",
      "Epoch 79/150\n",
      "\u001b[1m16/16\u001b[0m \u001b[32m━━━━━━━━━━━━━━━━━━━━\u001b[0m\u001b[37m\u001b[0m \u001b[1m2s\u001b[0m 121ms/step - loss: 0.9552 - learning_rate: 0.0010\n",
      "Epoch 80/150\n",
      "\u001b[1m16/16\u001b[0m \u001b[32m━━━━━━━━━━━━━━━━━━━━\u001b[0m\u001b[37m\u001b[0m \u001b[1m2s\u001b[0m 121ms/step - loss: 0.9482 - learning_rate: 0.0010\n",
      "Epoch 81/150\n",
      "\u001b[1m16/16\u001b[0m \u001b[32m━━━━━━━━━━━━━━━━━━━━\u001b[0m\u001b[37m\u001b[0m \u001b[1m2s\u001b[0m 121ms/step - loss: 0.9309 - learning_rate: 0.0010\n",
      "Epoch 82/150\n",
      "\u001b[1m16/16\u001b[0m \u001b[32m━━━━━━━━━━━━━━━━━━━━\u001b[0m\u001b[37m\u001b[0m \u001b[1m2s\u001b[0m 122ms/step - loss: 0.9264 - learning_rate: 0.0010\n",
      "Epoch 83/150\n",
      "\u001b[1m16/16\u001b[0m \u001b[32m━━━━━━━━━━━━━━━━━━━━\u001b[0m\u001b[37m\u001b[0m \u001b[1m2s\u001b[0m 121ms/step - loss: 0.9126 - learning_rate: 0.0010\n",
      "Epoch 84/150\n",
      "\u001b[1m16/16\u001b[0m \u001b[32m━━━━━━━━━━━━━━━━━━━━\u001b[0m\u001b[37m\u001b[0m \u001b[1m2s\u001b[0m 121ms/step - loss: 0.9007 - learning_rate: 0.0010\n",
      "Epoch 85/150\n",
      "\u001b[1m16/16\u001b[0m \u001b[32m━━━━━━━━━━━━━━━━━━━━\u001b[0m\u001b[37m\u001b[0m \u001b[1m2s\u001b[0m 121ms/step - loss: 0.8969 - learning_rate: 0.0010\n",
      "Epoch 86/150\n",
      "\u001b[1m16/16\u001b[0m \u001b[32m━━━━━━━━━━━━━━━━━━━━\u001b[0m\u001b[37m\u001b[0m \u001b[1m2s\u001b[0m 121ms/step - loss: 0.8900 - learning_rate: 0.0010\n",
      "Epoch 87/150\n",
      "\u001b[1m16/16\u001b[0m \u001b[32m━━━━━━━━━━━━━━━━━━━━\u001b[0m\u001b[37m\u001b[0m \u001b[1m2s\u001b[0m 121ms/step - loss: 0.8730 - learning_rate: 0.0010\n",
      "Epoch 88/150\n",
      "\u001b[1m16/16\u001b[0m \u001b[32m━━━━━━━━━━━━━━━━━━━━\u001b[0m\u001b[37m\u001b[0m \u001b[1m2s\u001b[0m 120ms/step - loss: 0.8649 - learning_rate: 0.0010\n",
      "Epoch 89/150\n",
      "\u001b[1m16/16\u001b[0m \u001b[32m━━━━━━━━━━━━━━━━━━━━\u001b[0m\u001b[37m\u001b[0m \u001b[1m3s\u001b[0m 122ms/step - loss: 0.8423 - learning_rate: 0.0010\n",
      "Epoch 90/150\n",
      "\u001b[1m16/16\u001b[0m \u001b[32m━━━━━━━━━━━━━━━━━━━━\u001b[0m\u001b[37m\u001b[0m \u001b[1m2s\u001b[0m 121ms/step - loss: 0.8421 - learning_rate: 0.0010\n",
      "Epoch 91/150\n",
      "\u001b[1m16/16\u001b[0m \u001b[32m━━━━━━━━━━━━━━━━━━━━\u001b[0m\u001b[37m\u001b[0m \u001b[1m3s\u001b[0m 121ms/step - loss: 0.8367 - learning_rate: 0.0010\n",
      "Epoch 92/150\n",
      "\u001b[1m16/16\u001b[0m \u001b[32m━━━━━━━━━━━━━━━━━━━━\u001b[0m\u001b[37m\u001b[0m \u001b[1m2s\u001b[0m 120ms/step - loss: 0.8347 - learning_rate: 0.0010\n",
      "Epoch 93/150\n",
      "\u001b[1m16/16\u001b[0m \u001b[32m━━━━━━━━━━━━━━━━━━━━\u001b[0m\u001b[37m\u001b[0m \u001b[1m3s\u001b[0m 121ms/step - loss: 0.8160 - learning_rate: 0.0010\n",
      "Epoch 94/150\n",
      "\u001b[1m16/16\u001b[0m \u001b[32m━━━━━━━━━━━━━━━━━━━━\u001b[0m\u001b[37m\u001b[0m \u001b[1m3s\u001b[0m 122ms/step - loss: 0.7980 - learning_rate: 0.0010\n",
      "Epoch 95/150\n",
      "\u001b[1m16/16\u001b[0m \u001b[32m━━━━━━━━━━━━━━━━━━━━\u001b[0m\u001b[37m\u001b[0m \u001b[1m3s\u001b[0m 120ms/step - loss: 0.7892 - learning_rate: 0.0010\n",
      "Epoch 96/150\n",
      "\u001b[1m16/16\u001b[0m \u001b[32m━━━━━━━━━━━━━━━━━━━━\u001b[0m\u001b[37m\u001b[0m \u001b[1m3s\u001b[0m 120ms/step - loss: 0.7823 - learning_rate: 0.0010\n",
      "Epoch 97/150\n",
      "\u001b[1m16/16\u001b[0m \u001b[32m━━━━━━━━━━━━━━━━━━━━\u001b[0m\u001b[37m\u001b[0m \u001b[1m2s\u001b[0m 120ms/step - loss: 0.7718 - learning_rate: 0.0010\n",
      "Epoch 98/150\n",
      "\u001b[1m16/16\u001b[0m \u001b[32m━━━━━━━━━━━━━━━━━━━━\u001b[0m\u001b[37m\u001b[0m \u001b[1m2s\u001b[0m 120ms/step - loss: 0.7675 - learning_rate: 0.0010\n",
      "Epoch 99/150\n",
      "\u001b[1m16/16\u001b[0m \u001b[32m━━━━━━━━━━━━━━━━━━━━\u001b[0m\u001b[37m\u001b[0m \u001b[1m2s\u001b[0m 122ms/step - loss: 0.7568 - learning_rate: 0.0010\n",
      "Epoch 100/150\n",
      "\u001b[1m16/16\u001b[0m \u001b[32m━━━━━━━━━━━━━━━━━━━━\u001b[0m\u001b[37m\u001b[0m \u001b[1m3s\u001b[0m 120ms/step - loss: 0.7409 - learning_rate: 0.0010\n",
      "Epoch 101/150\n",
      "\u001b[1m16/16\u001b[0m \u001b[32m━━━━━━━━━━━━━━━━━━━━\u001b[0m\u001b[37m\u001b[0m \u001b[1m2s\u001b[0m 120ms/step - loss: 0.7261 - learning_rate: 0.0010\n",
      "Epoch 102/150\n",
      "\u001b[1m16/16\u001b[0m \u001b[32m━━━━━━━━━━━━━━━━━━━━\u001b[0m\u001b[37m\u001b[0m \u001b[1m2s\u001b[0m 121ms/step - loss: 0.7168 - learning_rate: 0.0010\n",
      "Epoch 103/150\n",
      "\u001b[1m16/16\u001b[0m \u001b[32m━━━━━━━━━━━━━━━━━━━━\u001b[0m\u001b[37m\u001b[0m \u001b[1m3s\u001b[0m 121ms/step - loss: 0.7117 - learning_rate: 0.0010\n",
      "Epoch 104/150\n",
      "\u001b[1m16/16\u001b[0m \u001b[32m━━━━━━━━━━━━━━━━━━━━\u001b[0m\u001b[37m\u001b[0m \u001b[1m2s\u001b[0m 120ms/step - loss: 0.7012 - learning_rate: 0.0010\n",
      "Epoch 105/150\n",
      "\u001b[1m16/16\u001b[0m \u001b[32m━━━━━━━━━━━━━━━━━━━━\u001b[0m\u001b[37m\u001b[0m \u001b[1m2s\u001b[0m 122ms/step - loss: 0.6931 - learning_rate: 0.0010\n",
      "Epoch 106/150\n",
      "\u001b[1m16/16\u001b[0m \u001b[32m━━━━━━━━━━━━━━━━━━━━\u001b[0m\u001b[37m\u001b[0m \u001b[1m2s\u001b[0m 120ms/step - loss: 0.6923 - learning_rate: 0.0010\n",
      "Epoch 107/150\n",
      "\u001b[1m16/16\u001b[0m \u001b[32m━━━━━━━━━━━━━━━━━━━━\u001b[0m\u001b[37m\u001b[0m \u001b[1m2s\u001b[0m 122ms/step - loss: 0.6666 - learning_rate: 0.0010\n",
      "Epoch 108/150\n",
      "\u001b[1m16/16\u001b[0m \u001b[32m━━━━━━━━━━━━━━━━━━━━\u001b[0m\u001b[37m\u001b[0m \u001b[1m3s\u001b[0m 122ms/step - loss: 0.6609 - learning_rate: 0.0010\n",
      "Epoch 109/150\n",
      "\u001b[1m16/16\u001b[0m \u001b[32m━━━━━━━━━━━━━━━━━━━━\u001b[0m\u001b[37m\u001b[0m \u001b[1m2s\u001b[0m 121ms/step - loss: 0.6593 - learning_rate: 0.0010\n",
      "Epoch 110/150\n",
      "\u001b[1m16/16\u001b[0m \u001b[32m━━━━━━━━━━━━━━━━━━━━\u001b[0m\u001b[37m\u001b[0m \u001b[1m3s\u001b[0m 123ms/step - loss: 0.6459 - learning_rate: 0.0010\n",
      "Epoch 111/150\n",
      "\u001b[1m16/16\u001b[0m \u001b[32m━━━━━━━━━━━━━━━━━━━━\u001b[0m\u001b[37m\u001b[0m \u001b[1m2s\u001b[0m 122ms/step - loss: 0.6407 - learning_rate: 0.0010\n",
      "Epoch 112/150\n",
      "\u001b[1m16/16\u001b[0m \u001b[32m━━━━━━━━━━━━━━━━━━━━\u001b[0m\u001b[37m\u001b[0m \u001b[1m2s\u001b[0m 121ms/step - loss: 0.6337 - learning_rate: 0.0010\n",
      "Epoch 113/150\n",
      "\u001b[1m16/16\u001b[0m \u001b[32m━━━━━━━━━━━━━━━━━━━━\u001b[0m\u001b[37m\u001b[0m \u001b[1m3s\u001b[0m 122ms/step - loss: 0.6238 - learning_rate: 0.0010\n",
      "Epoch 114/150\n",
      "\u001b[1m16/16\u001b[0m \u001b[32m━━━━━━━━━━━━━━━━━━━━\u001b[0m\u001b[37m\u001b[0m \u001b[1m3s\u001b[0m 121ms/step - loss: 0.6067 - learning_rate: 0.0010\n",
      "Epoch 115/150\n",
      "\u001b[1m16/16\u001b[0m \u001b[32m━━━━━━━━━━━━━━━━━━━━\u001b[0m\u001b[37m\u001b[0m \u001b[1m2s\u001b[0m 123ms/step - loss: 0.6005 - learning_rate: 0.0010\n",
      "Epoch 116/150\n",
      "\u001b[1m16/16\u001b[0m \u001b[32m━━━━━━━━━━━━━━━━━━━━\u001b[0m\u001b[37m\u001b[0m \u001b[1m3s\u001b[0m 121ms/step - loss: 0.5950 - learning_rate: 0.0010\n",
      "Epoch 117/150\n",
      "\u001b[1m16/16\u001b[0m \u001b[32m━━━━━━━━━━━━━━━━━━━━\u001b[0m\u001b[37m\u001b[0m \u001b[1m2s\u001b[0m 121ms/step - loss: 0.5959 - learning_rate: 0.0010\n",
      "Epoch 118/150\n",
      "\u001b[1m16/16\u001b[0m \u001b[32m━━━━━━━━━━━━━━━━━━━━\u001b[0m\u001b[37m\u001b[0m \u001b[1m3s\u001b[0m 120ms/step - loss: 0.5805 - learning_rate: 0.0010\n",
      "Epoch 119/150\n",
      "\u001b[1m16/16\u001b[0m \u001b[32m━━━━━━━━━━━━━━━━━━━━\u001b[0m\u001b[37m\u001b[0m \u001b[1m3s\u001b[0m 121ms/step - loss: 0.5708 - learning_rate: 0.0010\n",
      "Epoch 120/150\n",
      "\u001b[1m16/16\u001b[0m \u001b[32m━━━━━━━━━━━━━━━━━━━━\u001b[0m\u001b[37m\u001b[0m \u001b[1m2s\u001b[0m 122ms/step - loss: 0.5612 - learning_rate: 0.0010\n",
      "Epoch 121/150\n",
      "\u001b[1m16/16\u001b[0m \u001b[32m━━━━━━━━━━━━━━━━━━━━\u001b[0m\u001b[37m\u001b[0m \u001b[1m3s\u001b[0m 122ms/step - loss: 0.5547 - learning_rate: 0.0010\n",
      "Epoch 122/150\n",
      "\u001b[1m16/16\u001b[0m \u001b[32m━━━━━━━━━━━━━━━━━━━━\u001b[0m\u001b[37m\u001b[0m \u001b[1m2s\u001b[0m 120ms/step - loss: 0.5530 - learning_rate: 0.0010\n",
      "Epoch 123/150\n",
      "\u001b[1m16/16\u001b[0m \u001b[32m━━━━━━━━━━━━━━━━━━━━\u001b[0m\u001b[37m\u001b[0m \u001b[1m2s\u001b[0m 121ms/step - loss: 0.5391 - learning_rate: 0.0010\n",
      "Epoch 124/150\n",
      "\u001b[1m16/16\u001b[0m \u001b[32m━━━━━━━━━━━━━━━━━━━━\u001b[0m\u001b[37m\u001b[0m \u001b[1m3s\u001b[0m 121ms/step - loss: 0.5341 - learning_rate: 0.0010\n",
      "Epoch 125/150\n",
      "\u001b[1m16/16\u001b[0m \u001b[32m━━━━━━━━━━━━━━━━━━━━\u001b[0m\u001b[37m\u001b[0m \u001b[1m3s\u001b[0m 122ms/step - loss: 0.5303 - learning_rate: 0.0010\n",
      "Epoch 126/150\n",
      "\u001b[1m16/16\u001b[0m \u001b[32m━━━━━━━━━━━━━━━━━━━━\u001b[0m\u001b[37m\u001b[0m \u001b[1m2s\u001b[0m 123ms/step - loss: 0.5122 - learning_rate: 0.0010\n",
      "Epoch 127/150\n",
      "\u001b[1m16/16\u001b[0m \u001b[32m━━━━━━━━━━━━━━━━━━━━\u001b[0m\u001b[37m\u001b[0m \u001b[1m2s\u001b[0m 122ms/step - loss: 0.5098 - learning_rate: 0.0010\n",
      "Epoch 128/150\n",
      "\u001b[1m16/16\u001b[0m \u001b[32m━━━━━━━━━━━━━━━━━━━━\u001b[0m\u001b[37m\u001b[0m \u001b[1m2s\u001b[0m 122ms/step - loss: 0.5027 - learning_rate: 0.0010\n",
      "Epoch 129/150\n",
      "\u001b[1m16/16\u001b[0m \u001b[32m━━━━━━━━━━━━━━━━━━━━\u001b[0m\u001b[37m\u001b[0m \u001b[1m2s\u001b[0m 123ms/step - loss: 0.4932 - learning_rate: 0.0010\n",
      "Epoch 130/150\n",
      "\u001b[1m16/16\u001b[0m \u001b[32m━━━━━━━━━━━━━━━━━━━━\u001b[0m\u001b[37m\u001b[0m \u001b[1m2s\u001b[0m 121ms/step - loss: 0.4893 - learning_rate: 0.0010\n",
      "Epoch 131/150\n",
      "\u001b[1m16/16\u001b[0m \u001b[32m━━━━━━━━━━━━━━━━━━━━\u001b[0m\u001b[37m\u001b[0m \u001b[1m3s\u001b[0m 122ms/step - loss: 0.4846 - learning_rate: 0.0010\n",
      "Epoch 132/150\n",
      "\u001b[1m16/16\u001b[0m \u001b[32m━━━━━━━━━━━━━━━━━━━━\u001b[0m\u001b[37m\u001b[0m \u001b[1m2s\u001b[0m 122ms/step - loss: 0.4780 - learning_rate: 0.0010\n",
      "Epoch 133/150\n",
      "\u001b[1m16/16\u001b[0m \u001b[32m━━━━━━━━━━━━━━━━━━━━\u001b[0m\u001b[37m\u001b[0m \u001b[1m2s\u001b[0m 121ms/step - loss: 0.4688 - learning_rate: 0.0010\n",
      "Epoch 134/150\n",
      "\u001b[1m16/16\u001b[0m \u001b[32m━━━━━━━━━━━━━━━━━━━━\u001b[0m\u001b[37m\u001b[0m \u001b[1m3s\u001b[0m 120ms/step - loss: 0.4672 - learning_rate: 0.0010\n",
      "Epoch 135/150\n",
      "\u001b[1m16/16\u001b[0m \u001b[32m━━━━━━━━━━━━━━━━━━━━\u001b[0m\u001b[37m\u001b[0m \u001b[1m3s\u001b[0m 121ms/step - loss: 0.4604 - learning_rate: 0.0010\n",
      "Epoch 136/150\n",
      "\u001b[1m16/16\u001b[0m \u001b[32m━━━━━━━━━━━━━━━━━━━━\u001b[0m\u001b[37m\u001b[0m \u001b[1m3s\u001b[0m 121ms/step - loss: 0.4503 - learning_rate: 0.0010\n",
      "Epoch 137/150\n",
      "\u001b[1m16/16\u001b[0m \u001b[32m━━━━━━━━━━━━━━━━━━━━\u001b[0m\u001b[37m\u001b[0m \u001b[1m2s\u001b[0m 123ms/step - loss: 0.4420 - learning_rate: 0.0010\n",
      "Epoch 138/150\n",
      "\u001b[1m16/16\u001b[0m \u001b[32m━━━━━━━━━━━━━━━━━━━━\u001b[0m\u001b[37m\u001b[0m \u001b[1m2s\u001b[0m 121ms/step - loss: 0.4350 - learning_rate: 0.0010\n",
      "Epoch 139/150\n",
      "\u001b[1m16/16\u001b[0m \u001b[32m━━━━━━━━━━━━━━━━━━━━\u001b[0m\u001b[37m\u001b[0m \u001b[1m3s\u001b[0m 120ms/step - loss: 0.4306 - learning_rate: 0.0010\n",
      "Epoch 140/150\n",
      "\u001b[1m16/16\u001b[0m \u001b[32m━━━━━━━━━━━━━━━━━━━━\u001b[0m\u001b[37m\u001b[0m \u001b[1m2s\u001b[0m 121ms/step - loss: 0.4268 - learning_rate: 0.0010\n",
      "Epoch 141/150\n",
      "\u001b[1m16/16\u001b[0m \u001b[32m━━━━━━━━━━━━━━━━━━━━\u001b[0m\u001b[37m\u001b[0m \u001b[1m2s\u001b[0m 121ms/step - loss: 0.4258 - learning_rate: 0.0010\n",
      "Epoch 142/150\n",
      "\u001b[1m16/16\u001b[0m \u001b[32m━━━━━━━━━━━━━━━━━━━━\u001b[0m\u001b[37m\u001b[0m \u001b[1m2s\u001b[0m 123ms/step - loss: 0.4167 - learning_rate: 0.0010\n",
      "Epoch 143/150\n",
      "\u001b[1m16/16\u001b[0m \u001b[32m━━━━━━━━━━━━━━━━━━━━\u001b[0m\u001b[37m\u001b[0m \u001b[1m2s\u001b[0m 121ms/step - loss: 0.4098 - learning_rate: 0.0010\n",
      "Epoch 144/150\n",
      "\u001b[1m16/16\u001b[0m \u001b[32m━━━━━━━━━━━━━━━━━━━━\u001b[0m\u001b[37m\u001b[0m \u001b[1m3s\u001b[0m 121ms/step - loss: 0.4010 - learning_rate: 0.0010\n",
      "Epoch 145/150\n",
      "\u001b[1m16/16\u001b[0m \u001b[32m━━━━━━━━━━━━━━━━━━━━\u001b[0m\u001b[37m\u001b[0m \u001b[1m2s\u001b[0m 121ms/step - loss: 0.3949 - learning_rate: 0.0010\n",
      "Epoch 146/150\n",
      "\u001b[1m16/16\u001b[0m \u001b[32m━━━━━━━━━━━━━━━━━━━━\u001b[0m\u001b[37m\u001b[0m \u001b[1m2s\u001b[0m 121ms/step - loss: 0.3945 - learning_rate: 0.0010\n",
      "Epoch 147/150\n",
      "\u001b[1m16/16\u001b[0m \u001b[32m━━━━━━━━━━━━━━━━━━━━\u001b[0m\u001b[37m\u001b[0m \u001b[1m3s\u001b[0m 120ms/step - loss: 0.3956 - learning_rate: 0.0010\n",
      "Epoch 148/150\n",
      "\u001b[1m16/16\u001b[0m \u001b[32m━━━━━━━━━━━━━━━━━━━━\u001b[0m\u001b[37m\u001b[0m \u001b[1m3s\u001b[0m 121ms/step - loss: 0.3929 - learning_rate: 0.0010\n",
      "Epoch 149/150\n",
      "\u001b[1m16/16\u001b[0m \u001b[32m━━━━━━━━━━━━━━━━━━━━\u001b[0m\u001b[37m\u001b[0m \u001b[1m2s\u001b[0m 121ms/step - loss: 0.3872 - learning_rate: 0.0010\n",
      "Epoch 150/150\n",
      "\u001b[1m16/16\u001b[0m \u001b[32m━━━━━━━━━━━━━━━━━━━━\u001b[0m\u001b[37m\u001b[0m \u001b[1m3s\u001b[0m 121ms/step - loss: 0.3789 - learning_rate: 0.0010\n"
     ]
    }
   ],
   "source": [
    "# Importar las herramientas necesarias para los callbacks\n",
    "from tensorflow.keras.callbacks import EarlyStopping, ReduceLROnPlateau\n",
    "\n",
    "# Definir el número de épocas para el entrenamiento\n",
    "EPOCHS = 150\n",
    "\n",
    "# Callback EarlyStopping: detiene el entrenamiento si la pérdida no mejora\n",
    "early_stopping = EarlyStopping(\n",
    "    monitor='loss',  # Monitorea la pérdida\n",
    "    patience=5,  # Número de épocas sin mejora antes de detenerse\n",
    "    restore_best_weights=True  # Restaura los mejores pesos al finalizar\n",
    ")\n",
    "\n",
    "# Callback ReduceLROnPlateau: ajusta dinámicamente la tasa de aprendizaje\n",
    "lr_scheduler = ReduceLROnPlateau(\n",
    "    monitor='loss',  # Monitorea la pérdida\n",
    "    factor=0.5,  # Reduce la tasa de aprendizaje a la mitad\n",
    "    patience=3,  # Número de épocas sin mejora antes de reducir la tasa\n",
    "    verbose=1  # Muestra mensajes informativos\n",
    ")\n",
    "\n",
    "# Entrenar el modelo utilizando los callbacks definidos\n",
    "history = model.fit(\n",
    "    dataset,  # Dataset de entrenamiento\n",
    "    epochs=EPOCHS,  # Número máximo de épocas\n",
    "    callbacks=[early_stopping, lr_scheduler]  # Callbacks para mejorar el entrenamiento\n",
    ")"
   ]
  },
  {
   "cell_type": "markdown",
   "metadata": {
    "id": "vbNDGI0VFuAU"
   },
   "source": [
    "### **Visualización de la Pérdida Durante el Entrenamiento**\n",
    "\n",
    "Esta celda muestra un gráfico que ilustra cómo evoluciona la pérdida del modelo a lo largo de las épocas.\n",
    "\n",
    "- **Eje X**: Representa las épocas de entrenamiento.\n",
    "- **Eje Y**: Muestra el valor de la pérdida calculada para el conjunto de datos de entrenamiento.\n",
    "- **Propósito**:\n",
    "  - Identificar si el modelo converge adecuadamente.\n",
    "  - Detectar posibles signos de sobreajuste, como una pérdida que se estabiliza o aumenta después de cierto número de épocas.\n",
    "\n",
    "Este análisis visual complementa las métricas numéricas, proporcionando una comprensión más completa del proceso de entrenamiento."
   ]
  },
  {
   "cell_type": "code",
   "execution_count": 25,
   "metadata": {
    "colab": {
     "base_uri": "https://localhost:8080/",
     "height": 489
    },
    "id": "pcKnP0ZRFmjn",
    "outputId": "f99c316b-89b9-4cb4-a4f8-e31a45a6a456"
   },
   "outputs": [
    {
     "data": {
      "image/png": "[encoded data removed]",
      "text/plain": [
       "<Figure size 800x500 with 1 Axes>"
      ]
     },
     "metadata": {},
     "output_type": "display_data"
    }
   ],
   "source": [
    "# Visualizar la pérdida durante el entrenamiento\n",
    "def plot_loss(history):\n",
    "    plt.figure(figsize=(8, 5))\n",
    "    plt.plot(history.history['loss'], label='Pérdida de entrenamiento')\n",
    "    plt.xlabel('Época')\n",
    "    plt.ylabel('Pérdida')\n",
    "    plt.title('Evolución de la Pérdida Durante el Entrenamiento')\n",
    "    plt.legend()\n",
    "    plt.grid(True)\n",
    "    plt.show()\n",
    "\n",
    "# Llamar a la función para graficar\n",
    "plot_loss(history)\n"
   ]
  },
  {
   "cell_type": "markdown",
   "metadata": {
    "id": "G_b-eyZZA8PR"
   },
   "source": [
    "### **Guardado del Modelo Entrenado**\n",
    "\n",
    "Se guarda el modelo completo, incluyendo arquitectura, pesos y configuración de entrenamiento, en el archivo `model_casado_150_2024.keras`. Esto permite reutilizar el modelo para inferencias o continuar el entrenamiento sin necesidad de reentrenarlo."
   ]
  },
  {
   "cell_type": "code",
   "execution_count": 26,
   "metadata": {
    "id": "UwLoIf-eJNDH"
   },
   "outputs": [],
   "source": [
    "# Guardar el modelo entrenado en un archivo con formato .keras\n",
    "# Incluye arquitectura, pesos y configuración de entrenamiento\n",
    "model.save(\"model_casado_150_2024.keras\")"
   ]
  },
  {
   "cell_type": "markdown",
   "metadata": {
    "id": "UEQPabXXBJCR"
   },
   "source": [
    "### **Carga del Modelo Guardado**\n",
    "\n",
    "En esta celda, se carga un modelo previamente guardado en un archivo `.keras` utilizando la función `load_model` de Keras. Esto permite reutilizar el modelo para inferencias o continuar el entrenamiento.\n",
    "\n",
    "#### **Detalles**\n",
    "1. **`load_model`**:\n",
    "   - Carga el modelo, incluyendo su arquitectura, pesos y configuración original.\n",
    "\n",
    "2. **Custom Objects**:\n",
    "   - En este caso, se incluye `sparse_categorical_crossentropy` como la función de pérdida utilizada originalmente en el modelo.\n",
    "\n",
    "Este paso permite reanudar el uso de un modelo guardado de forma consistente con su configuración inicial."
   ]
  },
  {
   "cell_type": "code",
   "execution_count": 27,
   "metadata": {
    "id": "Mk5PTDmwAqsJ"
   },
   "outputs": [],
   "source": [
    "# Importar la función para cargar modelos guardados y el módulo de pérdidas\n",
    "from keras.models import load_model\n",
    "from keras import losses  # Importar el módulo de pérdidas\n",
    "\n",
    "# Cargar el modelo guardado y asociar la función de pérdida original\n",
    "loaded_model = load_model(\n",
    "    \"model_casado_150_2024.keras\",  # Ruta del archivo guardado\n",
    "    custom_objects={'loss': losses.sparse_categorical_crossentropy}  # Función de pérdida usada originalmente\n",
    ")"
   ]
  },
  {
   "cell_type": "markdown",
   "metadata": {
    "id": "k3OOgx6ipdGl"
   },
   "source": [
    "### **Preparación del Modelo para Generar Texto**\n",
    "\n",
    "En esta celda, se reconstruye el modelo con un batch size de 1 para la generación de texto. Esto se debe a que durante la inferencia no es necesario procesar múltiples lotes, lo que simplifica el manejo del modelo.\n",
    "\n",
    "#### **Pasos Realizados**\n",
    "1. **Reconstrucción del Modelo**:\n",
    "   - Se utiliza la misma arquitectura del modelo original (`build_model`) pero con `batch_size=1` para adaptarlo a la inferencia.\n",
    "\n",
    "2. **Definición de la Forma de Entrada**:\n",
    "   - Se especifica una forma de entrada flexible con `input_shape=(1, None)`, permitiendo secuencias de cualquier longitud.\n",
    "\n",
    "3. **Carga de Pesos**:\n",
    "   - Se cargan los pesos entrenados desde el archivo del modelo guardado (`model_casado_150_2024.keras`) para asegurar que el modelo conserva su conocimiento previo.\n",
    "\n",
    "Este paso configura el modelo para generar texto utilizando los pesos entrenados y con un formato adecuado para la inferencia.\n"
   ]
  },
  {
   "cell_type": "code",
   "execution_count": 28,
   "metadata": {
    "id": "nGlNTy7xDCw5"
   },
   "outputs": [],
   "source": [
    "# Reconstruir el modelo para la generación de texto\n",
    "# Cambiamos batch_size a 1 porque en la inferencia no procesamos múltiples lotes\n",
    "model = build_model(len(vocab), embedding_dim, rnn_units, batch_size=1)\n",
    "\n",
    "# Construir el modelo con una forma de entrada flexible para inferencia\n",
    "input_shape = (1, None)  # Lote de tamaño 1 con secuencias de longitud variable\n",
    "model.build(input_shape=input_shape)  # Crear las variables necesarias para las capas\n",
    "\n",
    "# Cargar los pesos entrenados en el modelo reconstruido\n",
    "model.load_weights(\"model_casado_150_2024.keras\")  # Cargar pesos desde el archivo guardado"
   ]
  },
  {
   "cell_type": "markdown",
   "metadata": {
    "id": "qog4AwAnEmtG"
   },
   "source": [
    "### **Función para Generar Texto**\n",
    "\n",
    "Esta función permite generar texto utilizando el modelo entrenado, partiendo de una cadena inicial (`start_string`). El texto se genera carácter por carácter, utilizando las predicciones del modelo y ajustando su creatividad mediante un parámetro de temperatura.\n",
    "\n",
    "#### **Detalles de la Función**\n",
    "1. **Parámetros**:\n",
    "   - `model`: Modelo entrenado utilizado para la generación.\n",
    "   - `start_string`: Cadena inicial a partir de la cual se generará el texto.\n",
    "\n",
    "2. **Variables Internas**:\n",
    "   - `num_generate`: Número de caracteres a generar.\n",
    "   - `temperature`: Controla la aleatoriedad de las predicciones. Valores bajos favorecen la coherencia, mientras que valores altos aumentan la diversidad.\n",
    "\n",
    "3. **Proceso de Generación**:\n",
    "   - Convierte la cadena inicial a índices numéricos (`char2idx`).\n",
    "   - Utiliza un bucle para predecir el siguiente carácter basándose en el estado actual del modelo.\n",
    "   - Las predicciones se ajustan según la temperatura, y se elige un índice aleatoriamente de la distribución ajustada.\n",
    "   - Convierte el índice predicho de nuevo a un carácter (`idx2char`) y lo añade al texto generado.\n",
    "\n",
    "4. **Resultado**:\n",
    "   - Devuelve el texto completo generado, incluyendo la cadena inicial y los caracteres generados."
   ]
  },
  {
   "cell_type": "code",
   "execution_count": 29,
   "metadata": {
    "id": "q05VTagxDCzG"
   },
   "outputs": [],
   "source": [
    "# Definir una función para generar texto a partir de un modelo entrenado\n",
    "def generate_text(model, start_string):\n",
    "    # Número de caracteres a generar\n",
    "    num_generate = 1000\n",
    "\n",
    "    # Convertir la cadena inicial a índices numéricos usando char2idx\n",
    "    input_eval = [char2idx[s] for s in start_string]\n",
    "    # Añadir una dimensión extra para representar un batch de tamaño 1\n",
    "    input_eval = tf.expand_dims(input_eval, 0)\n",
    "\n",
    "    # Lista para almacenar los caracteres generados\n",
    "    text_generated = []\n",
    "\n",
    "    # Temperatura para ajustar la creatividad de las predicciones\n",
    "    temperature = 0.2\n",
    "\n",
    "    # Generar caracteres uno a uno\n",
    "    for i in range(num_generate):\n",
    "        # Obtener las predicciones del modelo\n",
    "        predictions = model(input_eval)\n",
    "        # Quitar la dimensión extra\n",
    "        predictions = tf.squeeze(predictions, 0)\n",
    "        # Ajustar las predicciones según la temperatura\n",
    "        predictions = predictions / temperature\n",
    "        # Elegir el índice del carácter basado en la distribución ajustada\n",
    "        predicted_id = tf.random.categorical(predictions, num_samples=1)[-1, 0].numpy()\n",
    "        # Usar el carácter predicho como entrada para la siguiente predicción\n",
    "        input_eval = tf.expand_dims([predicted_id], 0)\n",
    "        # Convertir el índice a carácter y añadirlo al texto generado\n",
    "        text_generated.append(idx2char[predicted_id])\n",
    "\n",
    "    # Devolver el texto inicial junto con los caracteres generados\n",
    "    return start_string + ''.join(text_generated)\n"
   ]
  },
  {
   "cell_type": "markdown",
   "metadata": {
    "id": "bWumRATZE3oI"
   },
   "source": [
    "### **Evaluación del Texto Generado**\n",
    "\n",
    "En esta celda se implementan funciones para evaluar la calidad del texto generado por el modelo mediante diversas métricas. Estas evaluaciones permiten cuantificar la coherencia, diversidad y similitud del texto generado con respecto a un texto de referencia.\n",
    "\n",
    "#### **Funciones Implementadas**\n",
    "1. **`distinct_ngrams(text, n=2)`**:\n",
    "   - Calcula el `Distinct-n`, una métrica que mide la diversidad del texto generado analizando los n-gramas únicos en relación con el total de n-gramas.\n",
    "\n",
    "2. **`calculate_perplexity(model, text)`**:\n",
    "   - Calcula la perplejidad del texto generado. La perplejidad evalúa qué tan bien el modelo predice la siguiente palabra en una secuencia. Valores más bajos indican mejor desempeño.\n",
    "\n",
    "3. **`evaluate_text(model, start_string, reference_file_path, n=2)`**:\n",
    "   - Genera texto a partir de un modelo entrenado y evalúa su calidad utilizando las métricas `Distinct-n`, `Perplejidad` y `BLEU`.\n",
    "\n",
    "#### **Métricas de Evaluación**\n",
    "- **Distinct-n**: Diversidad en los n-gramas generados.\n",
    "- **Perplejidad**: Capacidad del modelo para predecir correctamente las siguientes palabras.\n",
    "- **BLEU Score**: Similaridad entre el texto generado y el texto de referencia.\n",
    "\n",
    "#### **Ejemplo de Uso**\n",
    "- Ruta de referencia: Archivo de texto utilizado como base para la evaluación.\n",
    "- Cadena inicial: Texto inicial para la generación.\n",
    "\n",
    "El resultado incluye las métricas y el texto generado, lo que permite un análisis completo de la calidad del modelo.\n"
   ]
  },
  {
   "cell_type": "code",
   "execution_count": 30,
   "metadata": {
    "colab": {
     "base_uri": "https://localhost:8080/"
    },
    "id": "xnPV4P_dLFt9",
    "outputId": "d1016a24-e08c-410f-b1f0-ce5fb736e2bf"
   },
   "outputs": [
    {
     "name": "stdout",
     "output_type": "stream",
     "text": [
      "Texto Generado:\n",
      " España es de la luz. Mire, ya que ha pasado con Tarruples y Por usted es capaz de ejecutar ni el 4 % de los fondos europeos y ya hay un millón de familias haciendo las colas del hambre, usted no se puede caer más bajo, y menos otra vez para explicar y lo segundo, tiene usted el Tribunal Constitucional por los decretos de alarma; sin pedir nada cambio y recibiendo todas las crisis económicas y que ahora han rechoza de la solución, que puede reunir a las comunidades autónomas y expertado por crisis de la salud. También está en vigor el reglamento para la lucha contra las enfermedades infecciones y su Gobierno, al que he ofrecido una oficina nacional de mandelanos nacionales y europeas si vamos a poder estar en Tarro de Madrid, ¿y viene usted aquí con esa investidura, pero si ahora elige otra vez a los mismos para los presupuestos es porque el que les hipoteca su futuro, les manda al paro y les quita hasta el futuro de las pensiones. El segundo, una comisión en el Parlamento y en la Junta Electoral\n",
      "\n",
      "Métricas de Evaluación:\n",
      "Distinct Score: 0.9838\n",
      "Perplejidad: 1.1631\n",
      "BLEU Score: 0.7547\n"
     ]
    }
   ],
   "source": [
    "# Importar las librerías necesarias para las evaluaciones\n",
    "import nltk\n",
    "from nltk.translate.bleu_score import sentence_bleu, corpus_bleu, SmoothingFunction\n",
    "\n",
    "# Función para calcular Distinct-n (diversidad en los n-gramas)\n",
    "def distinct_ngrams(text, n=2):\n",
    "    tokens = text.split()  # Dividir el texto en palabras\n",
    "    ngrams = list(zip(*[tokens[i:] for i in range(n)]))  # Crear n-gramas\n",
    "    return len(set(ngrams)) / len(ngrams)  # Relación de n-gramas únicos al total\n",
    "\n",
    "# Función para calcular la perplejidad del modelo\n",
    "def calculate_perplexity(model, text):\n",
    "    # Convertir el texto en índices numéricos\n",
    "    input_eval = [char2idx[c] for c in text if c in char2idx]  # Filtrar caracteres no válidos\n",
    "    input_eval = tf.expand_dims(input_eval, 0)  # Añadir dimensión de batch\n",
    "\n",
    "    # Generar predicciones del modelo\n",
    "    predictions = model(input_eval)\n",
    "\n",
    "    # Ajustar las dimensiones para la pérdida\n",
    "    predictions = tf.squeeze(predictions, 0)  # Quitar dimensión de batch\n",
    "    labels = input_eval[0, 1:]  # Crear etiquetas desplazadas\n",
    "    predictions = predictions[:len(labels)]  # Asegurar longitud igual entre predicciones y etiquetas\n",
    "\n",
    "    # Calcular la pérdida de entropía cruzada y convertirla en perplejidad\n",
    "    loss = tf.keras.losses.sparse_categorical_crossentropy(labels, predictions, from_logits=True)\n",
    "    perplexity = tf.exp(tf.reduce_mean(loss)).numpy()  # Convertir pérdida promedio a perplejidad\n",
    "    return perplexity\n",
    "\n",
    "# Función principal para evaluar texto generado\n",
    "def evaluate_text(model, start_string, reference_file_path, n=2):\n",
    "    from nltk.translate.bleu_score import corpus_bleu, SmoothingFunction\n",
    "\n",
    "    # Leer el texto de referencia\n",
    "    with open(reference_file_path, \"r\", encoding=\"utf-8\") as file:\n",
    "        reference_text = file.read()\n",
    "\n",
    "    # Dividir el texto de referencia en líneas para generar múltiples listas\n",
    "    list_of_references = [line.split() for line in reference_text.splitlines() if line.strip()]\n",
    "\n",
    "    # Agrupar todas las referencias en un único conjunto\n",
    "    list_of_references = [list_of_references]\n",
    "\n",
    "    # Generar texto con el modelo\n",
    "    generated_text = generate_text(model, start_string)\n",
    "    hypotheses = [generated_text.split()]  # Convertir el texto generado en tokens\n",
    "\n",
    "    # Calcular Distinct-n\n",
    "    distinct_score = distinct_ngrams(generated_text, n)\n",
    "\n",
    "    # Calcular la perplejidad\n",
    "    perplexity = calculate_perplexity(model, generated_text)\n",
    "\n",
    "    # Calcular el BLEU Score con suavizado robusto\n",
    "    smooth = SmoothingFunction().method4  # Suavizado robusto\n",
    "    bleu_score = corpus_bleu(list_of_references, hypotheses, smoothing_function=smooth)\n",
    "\n",
    "    # Devolver las métricas y el texto generado\n",
    "    return {\n",
    "        \"Generated Text\": generated_text,\n",
    "        \"Distinct Score\": distinct_score,\n",
    "        \"Perplexity\": perplexity,\n",
    "        \"BLEU Score\": bleu_score\n",
    "    }\n",
    "\n",
    "# Ejemplo de uso: Evaluar el texto generado\n",
    "reference_file_path = \"/content/intervencionesCasado.txt\"  # Ruta del archivo de referencia\n",
    "start_string = \"España es \"  # Texto inicial para la generación\n",
    "\n",
    "# Evaluar el texto generado y obtener métricas\n",
    "results = evaluate_text(model, start_string, reference_file_path, n=2)\n",
    "\n",
    "# Mostrar los resultados\n",
    "print(\"Texto Generado:\\n\", results[\"Generated Text\"])\n",
    "print(\"\\nMétricas de Evaluación:\")\n",
    "print(f\"Distinct Score: {results['Distinct Score']:.4f}\")\n",
    "print(f\"Perplejidad: {results['Perplexity']:.4f}\")\n",
    "print(f\"BLEU Score: {results['BLEU Score']:.4f}\")"
   ]
  },
  {
   "cell_type": "code",
   "execution_count": 30,
   "metadata": {
    "id": "Rarc5N9YfGzG"
   },
   "outputs": [],
   "source": []
  }
 ],
 "metadata": {
  "accelerator": "GPU",
  "colab": {
   "gpuType": "T4",
   "provenance": []
  },
  "kernelspec": {
   "display_name": "Python 3",
   "name": "python3"
  },
  "language_info": {
   "codemirror_mode": {
    "name": "ipython",
    "version": 3
   },
   "file_extension": ".py",
   "mimetype": "text/x-python",
   "name": "python",
   "nbconvert_exporter": "python",
   "pygments_lexer": "ipython3",
   "version": "3.12.3"
  }
 },
 "nbformat": 4,
 "nbformat_minor": 0
}
