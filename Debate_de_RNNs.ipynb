{
  "nbformat": 4,
  "nbformat_minor": 0,
  "metadata": {
    "colab": {
      "provenance": []
    },
    "kernelspec": {
      "name": "python3",
      "display_name": "Python 3"
    },
    "language_info": {
      "name": "python"
    }
  },
  "cells": [
    {
      "cell_type": "markdown",
      "source": [
        "# Introducción al Notebook\n",
        "\n",
        "#### Desarrollado por Sergio Mahía INSO 3A\n",
        "\n",
        "Este notebook aborda la generación de texto utilizando Redes Neuronales Recurrentes (RNN) para imitar las intervenciones de tres parlamentarios españoles: Sánchez, Casado y Abascal. El objetivo es usar modelos RNN ya construidos para cada uno y generar nuevas intervenciones en su estilo.\n",
        "\n",
        "#### Estructura del Notebook:\n",
        "\n",
        "1. **Importación y Configuración**: Se importan las bibliotecas necesarias y se configura el entorno para entrenar y evaluar los modelos.\n",
        "\n",
        "2. **Mapeo de Caracteres**: Se crean los diccionarios de conversión entre caracteres e índices para procesar el texto en forma numérica.\n",
        "\n",
        "3. **Construcción de Modelos RNN**: Se crean modelos LSTM para cada parlamentario, que aprenden dependencias lingüísticas complejas.\n",
        "\n",
        "4. **Carga de Pesos**: Se cargan los modelos preentrenados para generar texto con cada uno.\n",
        "\n",
        "5. **Generación de Texto**: Se define una función general para generar texto a partir de una cadena inicial, controlando la creatividad con el parámetro de `temperature`.\n",
        "\n",
        "6. **Simulación del Diálogo**: Los modelos generan intervenciones alternadas para simular un diálogo entre los parlamentarios, utilizando la última frase generada como la semilla del siguiente modelo.\n",
        "\n",
        "Este proyecto ofrece una visión interesante de cómo las RNN pueden captar patrones lingüísticos de figuras públicas y generar nuevas intervenciones con el estilo aprendido.\n"
      ],
      "metadata": {
        "id": "sNvVpRtunS9b"
      }
    },
    {
      "cell_type": "markdown",
      "source": [
        "### Importación de Bibliotecas Necesarias\n",
        "\n",
        "En esta celda se importan las bibliotecas esenciales para construir y entrenar modelos de redes neuronales recurrentes (RNN) con TensorFlow y Keras. A continuación, se detallan los elementos importados:\n",
        "\n",
        "- **TensorFlow**: Framework utilizado para crear y entrenar redes neuronales. Aquí lo importamos como `tf`.\n",
        "- **Keras**: Biblioteca de alto nivel sobre TensorFlow que facilita la construcción de modelos de redes neuronales. Importamos:\n",
        "  - `Sequential`: Para definir un modelo secuencial, donde las capas se añaden una tras otra, ideal para la estructura de nuestra RNN.\n",
        "  - `Embedding`, `LSTM`, `Dense`, `Dropout`: Capas que serán utilizadas para construir y entrenar la RNN\n",
        "\n",
        "Estas bibliotecas forman la base para construir y entrenar el modelo RNN que se encargará de aprender las intervenciones de los parlamentarios y generar texto basado en ellas.\n"
      ],
      "metadata": {
        "id": "9t0EVnD_jiRx"
      }
    },
    {
      "cell_type": "code",
      "source": [
        "# Importar TensorFlow, la biblioteca principal para la construcción de modelos de Deep Learning\n",
        "import tensorflow as tf\n",
        "\n",
        "# Importar clases de Keras necesarias para construir la arquitectura del modelo\n",
        "from tensorflow.keras import Sequential  # Para construir modelos secuenciales, donde las capas se añaden en orden\n",
        "from tensorflow.keras.layers import Embedding, LSTM, Dense, Dropout  # Capas esenciales para construir una RNN\n",
        "\n",
        "# Comprobar las versiones de TensorFlow y NumPy\n",
        "print(\"Versión de TensorFlow:\", tf.__version__)"
      ],
      "metadata": {
        "colab": {
          "base_uri": "https://localhost:8080/"
        },
        "id": "1Av_zcJKili_",
        "outputId": "572ba1b3-8179-42d8-d765-90389591d60c"
      },
      "execution_count": 1,
      "outputs": [
        {
          "output_type": "stream",
          "name": "stdout",
          "text": [
            "Versión de TensorFlow: 2.17.1\n"
          ]
        }
      ]
    },
    {
      "cell_type": "markdown",
      "source": [
        "### Construcción del Mapeo de Caracteres\n",
        "\n",
        "En estas celdas se construyen los mapeos de caracteres a índices y viceversa a partir de un archivo de texto que contiene las intervenciones de cada parlamentario. Este mapeo es esencial para convertir el texto en una representación numérica que el modelo pueda procesar, ya que las redes neuronales trabajan con números y no directamente con caracteres.\n",
        "\n",
        "- Primero se lee el archivo de texto completo y se convierte a una cadena usando la codificación `UTF-8`.\n",
        "- Se extrae el conjunto de caracteres únicos en el texto para formar el vocabulario.\n",
        "- Se construyen dos diccionarios: uno para convertir de carácter a índice (`char2idx[politico]`) y otro para convertir de índice a carácter (`idx2char[politico]`). Estos diccionarios serán utilizados durante el entrenamiento y la generación de texto para traducir entre caracteres y su representación numérica."
      ],
      "metadata": {
        "id": "pmUzXS6akDM6"
      }
    },
    {
      "cell_type": "code",
      "source": [
        "# Leer el archivo de texto con las intervenciones de Sánchez\n",
        "with open(\"/content/intervencionesSanchez.txt\", 'rb') as f:\n",
        "    text = f.read().decode(encoding='utf-8')  # Leer el contenido del archivo y decodificarlo como UTF-8\n",
        "\n",
        "# Crear el vocabulario de caracteres únicos presentes en el texto\n",
        "vocabSanchez = sorted(set(text)) # `sorted(set(text))` proporciona una lista ordenada de caracteres únicos\n",
        "\n",
        "# Crear el diccionario para mapear cada carácter a un índice único\n",
        "char2idxSanchez = {c: i for i, c in enumerate(vocabSanchez)} # Diccionario para convertir carácter a índice\n",
        "\n",
        "# Crear el diccionario inverso para mapear cada índice a su carácter correspondiente\n",
        "idx2charSanchez = {i: c for c, i in char2idxSanchez.items()} # Diccionario para convertir índice a carácter"
      ],
      "metadata": {
        "id": "szqGU-Snin8c"
      },
      "execution_count": 2,
      "outputs": []
    },
    {
      "cell_type": "code",
      "source": [
        "# Leer el archivo de texto con las intervenciones de Casado\n",
        "with open(\"/content/intervencionesCasado.txt\", 'rb') as f:\n",
        "    text = f.read().decode(encoding='utf-8')  # Leer y decodificar el archivo como UTF-8\n",
        "\n",
        "# Crear el vocabulario de caracteres únicos presentes en el texto\n",
        "vocabCasado = sorted(set(text)) # `sorted(set(text))` proporciona una lista ordenada de caracteres únicos\n",
        "\n",
        "# Crear el diccionario para mapear cada carácter a un índice único\n",
        "char2idxCasado = {c: i for i, c in enumerate(vocabCasado)} # Diccionario para convertir carácter a índice\n",
        "\n",
        "# Crear el diccionario inverso para mapear cada índice a su carácter correspondiente\n",
        "idx2charCasado = {i: c for c, i in char2idxCasado.items()} # Diccionario para convertir índice a carácter"
      ],
      "metadata": {
        "id": "BUl35sh6ip4F"
      },
      "execution_count": 3,
      "outputs": []
    },
    {
      "cell_type": "code",
      "source": [
        "# Leer el archivo de texto con las intervenciones de Abascal\n",
        "with open(\"/content/intervencionesAbascal.txt\", 'rb') as f:\n",
        "    text = f.read().decode(encoding='utf-8')\n",
        "\n",
        "# Crear el vocabulario de caracteres únicos presentes en el texto\n",
        "vocabAbascal = sorted(set(text)) # `sorted(set(text))` proporciona una lista ordenada de caracteres únicos\n",
        "\n",
        "\n",
        "# Crear el diccionario para mapear cada carácter a un índice único\n",
        "char2idxAbascal = {c: i for i, c in enumerate(vocabAbascal)} # Diccionario para convertir carácter a índice\n",
        "\n",
        "# Crear el diccionario inverso para mapear cada índice a su carácter correspondiente\n",
        "idx2charAbascal = {i: c for c, i in char2idxAbascal.items()} # Diccionario para convertir índice a carácter"
      ],
      "metadata": {
        "id": "uTr6kINFiqNp"
      },
      "execution_count": 4,
      "outputs": []
    },
    {
      "cell_type": "markdown",
      "source": [
        "### Construcción del Modelo RNN\n",
        "\n",
        "En esta celda se define una función para construir un modelo de red neuronal recurrente (RNN) utilizando capas LSTM para la generación de texto. El modelo consta de varias capas, cada una con una función específica:\n",
        "\n",
        "1. **Embedding Layer**: La primera capa es una capa de `Embedding`, que convierte los índices numéricos (representación de caracteres) en vectores densos de una dimensión fija (`embedding_dim`). Esto permite representar el significado de cada carácter en un espacio vectorial.\n",
        "\n",
        "2. **Primera Capa LSTM**: La primera capa `LSTM` se encarga de capturar las dependencias temporales largas en el texto, permitiendo al modelo aprender contextos a largo plazo. Se utiliza `stateful=True` para mantener el estado de la red entre lotes de entrenamiento.\n",
        "\n",
        "3. **Dropout**: Añadimos una capa `Dropout` con una probabilidad del 40% para evitar el sobreajuste, apagando de forma aleatoria algunas neuronas durante el entrenamiento.\n",
        "\n",
        "4. **Segunda Capa LSTM**: La segunda capa `LSTM` refina los patrones aprendidos por la primera capa, utilizando la mitad de las unidades (`rnn_units // 2`) para reducir la dimensionalidad y evitar el sobreajuste.\n",
        "\n",
        "5. **Dense Intermedia y Dropout**: Una capa `Dense` con 512 neuronas y activación `ReLU` proporciona capacidad adicional al modelo para aprender patrones no lineales. Se añade `Dropout` para prevenir el sobreajuste.\n",
        "\n",
        "6. **Capa de Salida**: Finalmente, una capa `Dense` con un tamaño de salida igual al vocabulario (`vocab_size`) devuelve una probabilidad para cada carácter en el vocabulario.\n",
        "\n",
        "Este modelo está diseñado para aprender secuencias de texto y generar caracteres basados en contextos previos. Las dos capas LSTM ayudan a que el modelo capture relaciones complejas entre los caracteres, y las capas de Dropout ayudan a regularizar el modelo.\n"
      ],
      "metadata": {
        "id": "MC01C89Nk3Ob"
      }
    },
    {
      "cell_type": "code",
      "source": [
        "def build_model(vocab_size, embedding_dim, rnn_units, batch_size):\n",
        "    model = Sequential()  # Crear un modelo secuencial para apilar las capas una tras otra\n",
        "\n",
        "    # Capa de tipo embedding: convierte los índices numéricos de los caracteres en vectores densos\n",
        "    model.add(Embedding(input_dim=vocab_size, output_dim=embedding_dim))\n",
        "\n",
        "    # Primera capa LSTM: captura las dependencias temporales largas del texto de entrada\n",
        "    model.add(LSTM(\n",
        "        rnn_units,  # Número de unidades LSTM para capturar dependencias complejas\n",
        "        return_sequences=True,  # Devolver secuencias completas para la siguiente capa LSTM\n",
        "        stateful=True,  # Mantener el estado entre los lotes de entrenamiento, útil para generación de texto\n",
        "        recurrent_initializer='glorot_uniform'  # Inicializar los pesos de manera uniforme\n",
        "    ))\n",
        "    model.add(Dropout(0.4))  # Regularización para evitar sobreajuste apagando neuronas aleatoriamente\n",
        "\n",
        "    # Segunda capa LSTM: refina los patrones aprendidos en la primera capa\n",
        "    model.add(LSTM(\n",
        "        rnn_units // 2,  # Mitad de unidades para reducir la complejidad y prevenir el sobreajuste\n",
        "        return_sequences=True,  # Continuar devolviendo secuencias para la siguiente capa\n",
        "        stateful=True,  # Mantener el estado entre lotes\n",
        "        recurrent_initializer='glorot_uniform'\n",
        "    ))\n",
        "    model.add(Dropout(0.4))  # Añadir Dropout para mayor regularización\n",
        "\n",
        "    # Capa Dense intermedia: proporciona capacidad adicional de representación no lineal\n",
        "    model.add(Dense(512, activation=\"relu\"))  # 512 neuronas con activación ReLU para más capacidad expresiva\n",
        "    model.add(Dropout(0.4))  # Regularización adicional\n",
        "\n",
        "    # Capa de salida: devuelve una probabilidad para cada carácter en el vocabulario\n",
        "    model.add(Dense(vocab_size))  # Número de neuronas igual al tamaño del vocabulario para predicción de cada carácter\n",
        "\n",
        "    return model  # Devolver el modelo construido"
      ],
      "metadata": {
        "id": "DlnxYF-mir8E"
      },
      "execution_count": 5,
      "outputs": []
    },
    {
      "cell_type": "markdown",
      "source": [
        "### Definición de Hiperparámetros del Modelo\n",
        "\n",
        "En esta celda se definen dos hiperparámetros importantes para la construcción del modelo RNN:\n",
        "\n",
        "- **`embedding_dim = 256`**: Define la dimensión de los vectores de embedding. Este valor representa el tamaño del espacio vectorial donde se proyectarán los caracteres del vocabulario. Un mayor valor de `embedding_dim` puede proporcionar una mejor representación del texto, ya que cada carácter tendrá una representación más rica, aunque también aumenta la complejidad computacional.\n",
        "\n",
        "- **`rnn_units = 1024`**: Define el número de unidades en la primera capa LSTM. Este valor determina la capacidad de la red para aprender patrones complejos en las secuencias de texto. Un valor alto, como `1024`, le permite a la red aprender una variedad de dependencias temporales, aunque requiere más recursos computacionales para entrenar."
      ],
      "metadata": {
        "id": "s1kRhNWjk-l0"
      }
    },
    {
      "cell_type": "code",
      "source": [
        "embedding_dim = 256  # Tamaño de los vectores de embedding, que determina la representación de los caracteres\n",
        "rnn_units = 1024  # Número de unidades en la primera capa LSTM, para capturar dependencias complejas en el texto"
      ],
      "metadata": {
        "id": "sZ_Yg2AuiuK0"
      },
      "execution_count": 6,
      "outputs": []
    },
    {
      "cell_type": "markdown",
      "source": [
        "### Definición de la Forma de Entrada del Modelo\n",
        "\n",
        "En esta celda se define el **`input_shape`** del modelo, que representa la forma de los datos de entrada que recibirá la red. En este caso:\n",
        "\n",
        "- **`input_shape = (1, None)`**: Se indica que la entrada del modelo tendrá una secuencia de longitud variable (`None`), lo cual es ideal para trabajar con texto donde las secuencias pueden variar en tamaño. El `1` indica que solo se procesará una muestra por vez, que es típico en modelos `stateful` donde se quiere mantener el estado entre predicciones consecutivas."
      ],
      "metadata": {
        "id": "PRbDHClblDds"
      }
    },
    {
      "cell_type": "code",
      "source": [
        "input_shape = (1, None)  # Definición de la forma de entrada: un lote con secuencia de longitud variable"
      ],
      "metadata": {
        "id": "XBp4bqC2ivrq"
      },
      "execution_count": 7,
      "outputs": []
    },
    {
      "cell_type": "markdown",
      "source": [
        "### Construcción y Carga de los Modelos para Generación de Texto\n",
        "\n",
        "En esta sección se construyen y cargan los pesos para los modelos RNN correspondientes a los tres parlamentarios: Sánchez, Casado y Abascal. Cada modelo se define utilizando la función `build_model`, se ajusta con el método `build` según la forma de entrada especificada, y luego se cargan los pesos preentrenados desde archivos guardados previamente.\n",
        "\n",
        "- **Construcción del Modelo**: Para cada parlamentario se llama a la función `build_model`, especificando el tamaño del vocabulario respectivo, la dimensión de embedding y las unidades de la LSTM.\n",
        "- **Ajuste de la Forma de Entrada**: Con el método `build`, se especifica la forma de entrada para asegurar que el modelo esté preparado para procesar secuencias de longitud variable, con un tamaño de lote de `1` para la generación de texto.\n",
        "- **Carga de Pesos Preentrenados**: Los pesos se cargan desde archivos `.keras` previamente guardados, permitiendo al modelo utilizar los parámetros aprendidos durante el entrenamiento.\n",
        "\n",
        "Cada modelo está ahora listo para ser utilizado en la generación de texto, utilizando el conocimiento específico de las intervenciones parlamentarias de cada uno."
      ],
      "metadata": {
        "id": "eWI-M7FDlMnU"
      }
    },
    {
      "cell_type": "code",
      "source": [
        "# Construcción y carga del modelo para las intervenciones de Sánchez\n",
        "model_sanchez = build_model(len(vocabSanchez), embedding_dim, rnn_units, batch_size=1)  # Crear el modelo para Sánchez\n",
        "model_sanchez.build(input_shape=input_shape)  # Ajustar la forma de entrada para secuencias de longitud variable\n",
        "model_sanchez.load_weights(\"/content/model_sanchez_150_2024.keras\")  # Cargar los pesos preentrenados del modelo"
      ],
      "metadata": {
        "id": "LEK49MpSiwer"
      },
      "execution_count": 8,
      "outputs": []
    },
    {
      "cell_type": "code",
      "source": [
        "# Construcción y carga del modelo para las intervenciones de Casado\n",
        "model_casado = build_model(len(vocabCasado), embedding_dim, rnn_units, batch_size=1)  # Crear el modelo para Casado\n",
        "model_casado.build(input_shape=input_shape)  # Ajustar la forma de entrada para secuencias de longitud variable\n",
        "model_casado.load_weights(\"/content/model_casado_150_2024.keras\")  # Cargar los pesos preentrenados del modelo"
      ],
      "metadata": {
        "id": "RUr8ycUJixbQ"
      },
      "execution_count": 9,
      "outputs": []
    },
    {
      "cell_type": "code",
      "source": [
        "# Construcción y carga del modelo para las intervenciones de Abascal\n",
        "model_abascal = build_model(len(vocabAbascal), embedding_dim, rnn_units, batch_size=1)  # Crear el modelo para Abascal\n",
        "model_abascal.build(input_shape=input_shape)  # Ajustar la forma de entrada para secuencias de longitud variable\n",
        "model_abascal.load_weights(\"/content/model_abascal_150_2024.keras\")  # Cargar los pesos preentrenados del modelo"
      ],
      "metadata": {
        "id": "PQ_zKAysiyOp"
      },
      "execution_count": 10,
      "outputs": []
    },
    {
      "cell_type": "markdown",
      "source": [
        "### Función Generalizada para Generar Texto\n",
        "\n",
        "En esta celda se define una función generalizada para generar texto a partir de cualquier modelo RNN entrenado. Esta función permite evitar la duplicación de código al ser reutilizable para diferentes parlamentarios con sus vocabularios y modelos correspondientes.\n",
        "\n",
        "- **`generate_text(model, start_string, char2idx, idx2char, temperature=0.2, num_generate=1000)`**:\n",
        "  - **`model`**: Modelo RNN entrenado que se utilizará para generar el texto.\n",
        "  - **`start_string`**: Cadena inicial a partir de la cual se generará el texto. Este texto actúa como semilla para la generación.\n",
        "  - **`char2idx`** y **`idx2char`**: Diccionarios de mapeo de carácter a índice y de índice a carácter, utilizados para traducir entre caracteres y sus representaciones numéricas.\n",
        "  - **`temperature`**: Controla la aleatoriedad del texto generado. Valores bajos (e.g., `0.2`) resultan en predicciones más predecibles, mientras que valores más altos (`0.7`) introducen más diversidad y creatividad.\n",
        "  - **`num_generate`**: Número de caracteres a generar.\n",
        "\n",
        "La lógica de la función es la siguiente:\n",
        "1. **Conversión de la Cadena Inicial**: Convierte la cadena inicial a una lista de índices (`input_eval`) para que el modelo pueda procesarla.\n",
        "2. **Generación del Texto**:\n",
        "   - Se realiza una predicción a partir de la entrada actual (`input_eval`) utilizando el modelo.\n",
        "   - La predicción se ajusta según la `temperature` para controlar la creatividad de la salida.\n",
        "   - Se selecciona el siguiente carácter utilizando una distribución categórica, que permite generar caracteres según las probabilidades predichas.\n",
        "   - La entrada se actualiza con el nuevo carácter generado, y el carácter correspondiente se añade a la lista `text_generated`.\n",
        "3. **Devolución del Texto Completo**: Devuelve la cadena inicial concatenada con el texto generado, lo cual facilita ver cómo el modelo expande el contexto original.\n",
        "\n",
        "Esta función se utiliza de manera consistente para los tres parlamentarios, lo que mejora la claridad y la eficiencia del código.\n"
      ],
      "metadata": {
        "id": "OOkySkKFldDS"
      }
    },
    {
      "cell_type": "code",
      "source": [
        "def generate_text(model, start_string, char2idx, idx2char, temperature=0.2, num_generate=1000):\n",
        "    input_eval = [char2idx[s] for s in start_string if s in char2idx]  # Convertir la cadena inicial a índices\n",
        "    input_eval = tf.expand_dims(input_eval, 0)  # Añadir una dimensión batch\n",
        "\n",
        "    text_generated = []  # Lista para almacenar el texto generado\n",
        "\n",
        "    for _ in range(num_generate):\n",
        "        predictions = model(input_eval)  # Hacer una predicción usando el modelo\n",
        "        predictions = tf.squeeze(predictions, 0)  # Eliminar la dimensión batch\n",
        "        predictions = predictions / temperature  # Ajustar las probabilidades según la temperatura\n",
        "        predicted_id = tf.random.categorical(predictions, num_samples=1)[-1, 0].numpy()  # Seleccionar un índice según la distribución categórica\n",
        "        input_eval = tf.expand_dims([predicted_id], 0)  # Actualizar la entrada para el próximo carácter\n",
        "        text_generated.append(idx2char[predicted_id])  # Añadir el carácter generado a la lista de salida\n",
        "\n",
        "    return start_string + ''.join(text_generated)  # Devolver la cadena inicial junto con el texto generado"
      ],
      "metadata": {
        "id": "aRnh1kTci0ab"
      },
      "execution_count": 11,
      "outputs": []
    },
    {
      "cell_type": "markdown",
      "source": [
        "### Función para Extraer la Última Frase Generada\n",
        "\n",
        "En esta celda se define una función para extraer la última frase completa generada a partir del texto:\n",
        "\n",
        "- **`extract_last_sentence(text)`**:\n",
        "  - **Parámetro `text`**: El texto completo generado por el modelo.\n",
        "  - **Proceso**: El texto se divide en oraciones utilizando el carácter `.`,`!` o `?` como delimitador.\n",
        "  - **Resultado**: Se devuelve la penúltima oración (`sentences[-2]`) para asegurar que sea una oración completa y no una parcial generada al final del texto. Se utiliza `strip()` para eliminar espacios en blanco. Si solo existe una oración, se devuelve todo el texto sin cambios.\n",
        "\n",
        "Esta función permite extraer únicamente la última frase completa del texto generado, lo cual es útil para mantener coherencia en la salida y evitar fragmentos incompletos que puedan ocurrir al final."
      ],
      "metadata": {
        "id": "4Kud2BgomSeA"
      }
    },
    {
      "cell_type": "code",
      "source": [
        "import re\n",
        "\n",
        "# Definir una función mejorada para extraer la última frase completa del texto generado\n",
        "def extract_last_sentence(text):\n",
        "    # Dividir el texto utilizando una expresión regular que considere ., ! y ? como delimitadores\n",
        "    sentences = re.split(r'[.!?]', text)\n",
        "    # Devolver la penúltima oración si existe, sino devolver todo el texto limpio de espacios\n",
        "    return sentences[-2].strip() if len(sentences) > 1 else text.strip()"
      ],
      "metadata": {
        "id": "7dr9XaWBi582"
      },
      "execution_count": 12,
      "outputs": []
    },
    {
      "cell_type": "markdown",
      "source": [
        "### Configuración Inicial para la Generación de Texto\n",
        "\n",
        "En esta celda se define la configuración inicial para comenzar la generación de texto:\n",
        "\n",
        "- **`seed_text = \"El parlamento\"`**: Texto inicial que se utilizará como entrada para los modelos RNN, actuando como la semilla de la generación.\n",
        "- **`turns = 5`**: Número de turnos de conversación a generar. Esto se utilizará si los modelos \"dialogan\" entre sí, alternando respuestas durante múltiples turnos.\n",
        "\n",
        "Esta configuración permite iniciar la generación con un contexto claro y definir la longitud del intercambio entre los modelos."
      ],
      "metadata": {
        "id": "v1OPuk4Rm-GE"
      }
    },
    {
      "cell_type": "code",
      "source": [
        "# Configuración inicial para la generación de texto\n",
        "seed_text = \"El parlamento\"  # Texto inicial que servirá como punto de partida para la generación de texto\n",
        "turns = 5  # Número de turnos de conversación que se desea generar"
      ],
      "metadata": {
        "id": "bMOZOoeAi7lL"
      },
      "execution_count": 13,
      "outputs": []
    },
    {
      "cell_type": "markdown",
      "source": [
        "### Simulación del Diálogo entre Modelos\n",
        "\n",
        "En esta celda se simula un diálogo entre los tres modelos entrenados para los parlamentarios (Sánchez, Casado y Abascal). Cada modelo genera texto a partir de la última frase generada por el modelo anterior, creando un intercambio continuo durante un número de turnos especificado.\n",
        "\n",
        "- **Bucle de Diálogo**: Se ejecuta un bucle que itera el número de turnos definidos (`turns`).\n",
        "  - **Generación de Texto**: En cada turno, cada modelo genera una respuesta a partir del texto inicial (`seed_text`) o la última frase generada.\n",
        "  - **Extracción de la Última Frase**: La función `extract_last_sentence` se usa para extraer la última frase completa del texto generado, que luego se utiliza como entrada para el siguiente modelo.\n",
        "  - **Temperatura Ajustada**: Se utiliza una temperatura de `0.4` para Sánchez y Casado (para mantener cierta coherencia) y `0.7` para Abascal, buscando mayor creatividad.\n",
        "\n",
        "Este proceso simula cómo podrían interactuar los parlamentarios en un \"diálogo\", creando una secuencia fluida de respuestas."
      ],
      "metadata": {
        "id": "dZvQbRoMnFIX"
      }
    },
    {
      "cell_type": "code",
      "execution_count": 14,
      "metadata": {
        "colab": {
          "base_uri": "https://localhost:8080/"
        },
        "id": "ijYQQOevVm51",
        "outputId": "25120d3f-2427-48f6-ddab-b6251c384f14"
      },
      "outputs": [
        {
          "output_type": "stream",
          "name": "stdout",
          "text": [
            "Inicio del diálogo:\n",
            "\n",
            "Turno 1 (Sánchez):\n",
            "El parlamento de los defensores de la Constitución española― vemos que los valores que tienen que ver con el estatuto del becario y también con reforzar todo lo que tiene que ver con la policía patriótica que ustedes pusieron en marcha cuando estaban gobernar, en ese sentido creo que también es un logro de este Gobierno, y por tanto de esta democracia, el que arrimar el hombro, tiene que ser útil, señoría. La mano sigue tendida, señor Casado.\n",
            "Muchas gracias, señora presidenta. Señoría, ha hecho usted ha sido posar, delante de un espejo muy enfadado aparentemente, al lado de unas ovres conforme al IPC, compromiso de aumentar la dotación de becas en nuestro país, página 26 del programa electoral del Partido Socialista, compromiso de revalorizar las pensiones conforme al IPC, compromiso de revilirar que la Comisión Mixta de la Unión Europea. Usted ha comentado del Estado de alarma, es decir el mando único, pero también me pide más de un 10 % a los intereses generales del Estado y, por tanto, con los i\n",
            "Turno 1 (Casado):\n",
            "Señoría, ha hecho usted ha sido posar, delante de un espejo muy enfadado aparentemente, al lado de unas ovres conforme al IPC, compromiso de aumentar la dotación de becas en nuestro país, página 26 del programa electoral del Partido Socialista, compromiso de revalorizar las pensiones conforme al IPC, compromiso de revilirar que la Comisión Mixta de la Unión Europea de mañana? Lo debe saber, ¿no? ¿Qué va a hacer usted para que baje la luz? ¿Pretende que nos impuestos, para eliminar trabas burocráticas, sino er para la subida del Partido Socialista de Euskadi. Le hago una pregunta muy directa: ¿por qué no hace reformas en vez de seguir despilfarro, más déficit y más impuestos. Pero el Partido Popular es un partido de Estado y también el camino pidiendo limosna a quien será la próxima foto. La Transeculación que venían ustedes. Pero, mire, en medio minuto quedó usted desnudo a la historia de España pactando con ellos, que dicen públicamente que lo que les están rompiendo la mano pero nadie le dijo hace que no se acuerda nada. Usted dijo esta impuestos y cinco años mientras sus socios separatistas, y aquí está otra vez pactando los presupuestos están para ser devueltos, son papel mojado, están hartos de la situación que atraviesa el país, que se han permitido que esto sus preguntas, han sido tres. De policía no me hablan del mayoría moderada, que es\n",
            "Turno 1 (Abascal):\n",
            "Usted dijo esta impuestos y cinco años mientras sus socios separatistas, y aquí está otra vez pactando los presupuestos están para ser devueltos, son papel mojado, están hartos de la situación que atraviesa el país, que se han permitido que esto sus preguntas, han sido tresencios, que seguro que los aprovecha bien. Muchas gracias.\n",
            "Concluyo inmediatamente. VOX ha nacido en el año 1014, VOX es un partido nues a la vivienda, tener un empleo estable, poder formar una familia y poder pagar la factura de la nuz, que no es un política de acaba de rajar la cara un inmigrante ilegal con un garfio en la que mintieron a sus propios electores. Yo venía a preguntarle cómo duerme usted con el señor Iglesias, pero sobre todo venía a preguntarle cómo duerme usted con el señor Iglesias, pero sobre todo venía a preguntarle cómo duerme usted con el señor Iglesias, pero sobre todo venía a preguntarle cómo duerme usted con el señor Iglesias, pero sobre todo venía a preguntarle cómo duerme usted con el señor Iglesias, pero sobre todo venía a preguntarle cómo duerme usted con el señor Iglesias, pero sobre todo venía a preguntarle cómo duerme usted con el señor Iglesias, pero sobre todo venía a preguntarle cómo duerme usted con el señor Iglesias, pero sobre todo venía a pregunt\n",
            "\n",
            "\n",
            "Turno 2 (Sánchez):\n",
            "VOX ha nacido en el año 1014, VOX es un partido nues a la vivienda, tener un empleo estable, poder formar una familia y poder pagar la factura de la nuz, que no es un política de acaba de rajar la cara un inmigrante ilegal con un garfio en la que mintieron a sus propios electores de la inversión en Cataluña se eleva un 19 %, cumpliendo así con lo recogido en el Estatuto de Internacional; hablamos de la salud pública, salvar vidas, salvar empresas y salvar empleo. ¿Qué es lo que está haciendo la oposición y que la anterior.\n",
            "Muchas gracias, señoría. Señor Rufián, yo entiendo que se dirige a mí, esta es una sesión de control, señoría, no es un sumatorio de monólogos. Espero que usted pueda también para que usted yo creo que un político, un dirigente público y también en el año 2020, como consecuencia de la pandemia, y ahora efectivamente con el alza de los constitucionalistas catalanes cuando usted no los representa?  ¡Si es que no le votan! Y no le votan porque no tienen ustedes una propuesta para Cataluña, ¿cuál es? ¿El palo? Ustedes, más que resolver el conflicto, la oposición, que es una responsabilidad de Estado. Se trata de salvar vidas y defender la salud pública, que han sido derrotados en las urnas y, por tanto, cumplir con la Constitución. Ustedes no cu\n",
            "Turno 2 (Casado):\n",
            "Se trata de salvar vidas y defender la salud pública, que han sido derrotados en las urnas y, por tanto, cumplir con la Constitución, y ahora quiere reformarla para bran de su partido es un pazo y no contesta a nada, con lo cual usted hace lo que puede, como todos los demás. Señor Sánchez, es usted presidente, pero no tiene Gobierno. Acabo ya, señora presidenta. Ya sabe lo que hace que la pandemia es cosa del abandonados a los niños, incluso dando los indultos; con los de Podemos, a cambio de blanquear dictados que apoyar alguna modificación legislativa por procedimiento de urgencia, tal y como hizo ayer Alemania y le llevo ayer por telipe por merez y el responsable por hacer una compra fallida de mascarillas. A pesar de que la Constitución está en tela de juicio. Si está haciendo la mano para acordar un pacto sanitario Cajal , un marco legal frente a posibles rebrotes, la pandemia está en la solución, que puede reunir a las comunidades autónomas y está pactar con ustedes y de la discriminado en la atención sanitaria de forma absolutamente indecente. Y también quiero dire la reforma laboral? ¿En qué quedamos? ¿Va u\n",
            "Turno 2 (Abascal):\n",
            "¿En qué quedamos mingun y usted diespañoles que las llamadas del vicepresidente del Gobierno al cambio de régimen en España, sus críticas constante a la sus partido, por eso quieren una Pispalía de su partido y sus socios han perdido el contacto con la calle, que no están en los mercados, en los bares. Porque si estuvieran, sabrían que a la gente no le preocupa la ciudadanía éticas de los ERTE, récord en víctimas de los ERTE que no han cobrado nada desde el mes de marzo, récord en víctimas de los ERTE que no han cobrado nada desde el mes de marzo, nécord en víctimas de los ERTE, récord en víctimas de los ERTE que no han cobrado nada desde el mes de marzo, récord en víctimas de los ERTE, récord en víctimas de los ERTE que no han cobrado nada desde el mes de marzo, récord en víctimas de los ERTE, récord en víctimas de los ERTE que no han cobrado nada desde el mes de marzo, récord en víctimas de los ERTE que no han cobrado nada desde el mes de marzo, récord en víctimas de los ERTE, récord en víctimas de \n",
            "\n",
            "\n",
            "Turno 3 (Sánchez):\n",
            "¿En qué quedamos mingun y usted diespañoles que las llamadas del vicepresidente del Gobierno al cambio de régimen en España, sus críticas constante a la sus partido, por eso quieren una Pispalía de su partido y sus socios han perdido el contacto con la calle, que no están en los mercados, en los bares que defendemos la armonización fiscal. Y en todos los territorios de nuestro país.  En segundo lugar, señoría, siempre pasa algo con la izquierda y menos ustedes, señorías  y menos ustedes, señorías  y menos una sentencia del Tribunal Constitucional, algo que hicimos el pasado 19 de febrero mediante un real decreto- ley para extender los ERTE hasta el 30 de junio. Por tanto, sí, señoría, vamos a recuperar los grupos parlamentarios sobre la base de ese Reglamento. Ciñéndome a su pregunta. Su pregunta es si este Gobierno y yo tenemos un proyecto para España. Señor Casado, ¿cuáles son las preocupaciones de la Constitución y, por tanto, ustedes representan todo menos ese valor de concordia y de convivencia me parece que hace aún más fuerte a la sociedad española y al conjunto de la sociedad. Ustedes utilizan argumentos de todo tipo. Usted utiliza el término adecuado, apropiado. Pregunta si tenemos el Gobierno adecuado, apropiado. Pregunta si tenemos el Gobierno adecuado, apropiado. Pregun\n",
            "Turno 3 (Casado):\n",
            "Pregunta si tenemos el Gobierno adecuado, apropiados bosas y el Gobierno. La ministra de Europa, porque fue la ocupación ilegal de viviendas o los ofortas. Le pido que traiga aquí el primer ministro griego―, la inflación puede aparecer por Alemania y el Estado del bienestar que usted votó como diputado cuando estaba una cosa ley para acabar la institucional, a pesar de que las ayudas políticas de Bildu y que lleva un mes despilfarro, más déficit y más impuestos. Pero el Partido Popular es un partido de Estado y también el señor Huerta y a la señora Montón apenas unas semanas, uno creen que nos ha conseguido superar dos recesiones, también los que no han cesado su activad de la hacer absolutamente nada en su homilía escrita, le voy a recordar lo que le hemos ofrecido solo hoy ocho acuerdos. Y con respecto al Consejo Europeo, el comisario europeo de Delegar la reforma laboral? ¿Es que le han hecho trampas con todos los instrumentos del Estado: con el ministro de Justicia se atrevió aquí a decir que la Constitución está en tela de juicio.\n",
            "Turno 3 (Abascal):\n",
            "¿Es que le han hecho trampas con todos los instrumentos del Estado: con el ministro de Justicia se atrevió aquí a decir que la Constitución está en tela de juicio mus de seguridad y de prosperido, se llama ETA.  Señor Sánchez, ha citado usted aquí al señor Azaña, y hemos pensado lo mismo el Gobierno y acortiente con la calle, que no están en los mercados, en los bares. Porque si estuvieran, sabrían que a la gente no le preocupa la ciudadanía éticas con la desindustrialización de la España interior, la criminalización del diésel y del gas y del diésel. Menos demagogia.\n",
            "Señor Sánchez, al contrario que ahí fuera, en Esta de calaminta, que está l la justicia y del año 2018, y el Gobierno acaba de garantizar la desaparición de la filosofía de las aulas, señor Sánchez, los cuenta de la Corona, señorías, porque ustedes quieren atropellar cualquier tipo de institución democrática, a la que amenazan un día sí y otro también desde la bancada azul del Gobierno al cambio de régimen en España, sus críticas constante la inmigración ilegal, que les llama a España, que importa delincuencia y que se una fiene acúma del Estado? No se respeta ni a sí mismo, no re\n",
            "\n",
            "\n",
            "Turno 4 (Sánchez):\n",
            "Señor Sánchez, al contrario que ahí fuera, en Esta de calaminta, que está l la justicia y del año 2018, y el Gobierno acaba de garantizar la desaparición de la filosofía de las aulas, señor Sánchez, los cuenta de la Corona, señorías, porque ustedes quieren atropellar cualquier tipo de institución democrática, a la que amenazan un día sí y otro también desde la bancada azul del Gobierno al cambio de régimen en España, sus críticas constante la inmigración ilegal, que les llama a España, que importa delincuencia y que se una fiene acúma del Estado para el año 2022, que se van a tramitar —‌esperemos— durante las próximas semanas y meses que han encima del Movimiento. Decía lo siguiente: la participación de los españoles se produce a través de la familia, el Gobierno de España viene pidiendo a la Unión Europea en lo que respecta al mercado energético, de la formación profesional, del ámbito laboral, etcétera. Por tanto, yo lo que pido, señoría, que a lo largo de estos meses tan intensos, donde usted viene aquí y suelta ―imagino― su vídeo para luego colgarlo en redes sociales. Pero este es un Gobierno que va a anteponer los intereses de la Administración estadounidense. En definitiva, señoría, si usted quiere arrimar el hombro, se lo dejo bien claro: apoye al Gobierno de España en la creación de esa tasa de reposición —quiero ser preciso— no de un 120 %, como dije antes en el debate, sino también en su espíritu. Nos dice que tenemos que propiciar el diálogo, que tenemos que sacar algunas lecciones de esta pandemia. La primera vez \n",
            "Turno 4 (Casado):\n",
            "Nos dice que tenemos que propiciar el diálogo, que tenemos que sacar algunas lecciones de esta pandemia, una reguando a los mismos para los presupuestos es porque el que les dijo hace dos meses que había derrotado al coronavirus y si va a poner peajes a las autopistas? ¿Cuándo? Dígalo. ¿Cuánto va a costar moverse? ¿Por qué no hace reformas en vez de seguir despilfarro, más déficit y más impuestos. Y la competencia y la crisis económica que ya ha llegado al desempleo duplica la media europea, cuando dejemos legalistas, pero no contrario de lo que está pasando en esta sesión. Ya sabíamos que no han cosado la ministra de Marue. Por ello, haremos todo lo posible para que la sensatez y la reforma laboral? ¿Pero si no usamos aquí. Mismos europeos no se pueden acustar el camino pidiendo limosna a quien ser acupar el Gobierno. La ministra de Educamiento justicia. Ya sabe qué se cumpliendo la Unión Europea de mañana? Lo debe saber, ¿no? ¿Qué nos lleva al populismo de la Venezuela de Causados y los que les importante que nos personas públicos, sino con oportunidades garantizadas. No queremos rega\n",
            "Turno 4 (Abascal):\n",
            "¿Qué nos lleva al populismo de la Venezuela de Causados y los que les importante que nos personas públicos, sino con oportunidades garantizadas que no se ha corpeda no se conforman con la ruina, señorías, nos traen la división, la ya clásica división por sexos es muy cariñoso con usted, que el señor Macra le calle velincuentes —‌si es que han sido detenidos— ya están en la calle; que los delincuentes ya están de en El faro el depósito, que no pueden ni siquiera pagar la cuota de autónomos; todo ello mucho antes de la ganado, que no pueden pagar la factura de la energía. Su transición energética es un timo que nos ahorren sus tolpezas, su sectarismo, y sobre todo que los estaros en la vez impidiendo su detención, por instrucciones expresas del Gabierno el función de para la viseria, igual que su ideología.\n",
            "Muchas gracias.\n",
            "Concluyo inmediatamente. VOX ha nacido en el año 2014, VOX es un partido nuesta enfertor muncal y para atastar a la ganalizamión partido, por eso quieren una Abogacía del Gobierno y no del Estado, por eso quieren una Gigalanía de persoras es para su vicepresidencia y que los jueces y fiscales fueran afuera y \n",
            "\n",
            "\n",
            "Turno 5 (Sánchez):\n",
            "Concluyo inmediatamente al conjunto de ciudadanos canarios. Por lo demás, en el ámbito de la respuesta económica y social que nos vamos a encontrar como consecuencia del confinamiento que le recuerdo no existía antes o al menos en la envergadura de la crisis económica y social que nos vamos a encontrar como consecuencia del confinamiento que le recuerdo no existía antes o al menos en la envergadura de la crisis económica y social que nos vamos a encontrar como consecuencia del confinamiento que le recuerdo no existía antes o al menos en la envergadura de la crisis económica y social que nos vamos a encontrar como consecuencia del confinamiento que le recuerdo no existía antes o al menos en la envergadura de la crisis económica y social que nos vamos a encontrar como consecuencia del confinamiento que le recuerdo no existía antes o al menos en la envergadura de la crisis económica y social que nos vamos a encontrar como consecuencia del confinamiento que le recuerdo no existía antes o al menos en la envergadu\n",
            "Turno 5 (Casado):\n",
            "Concluyo inmediatamente al conjunto de ciudadanos canarios de sangre. Nosotros se la daríamos, como le importa usted, y España. Ya se puede pactar y blanquear para que los ERTE hasta fin de año, para crete ni los golpistas ni usted. .\n",
            "Mire, señor Sánchez, no se acuerda nada. Usted dijo esta mano para que el paro del nosotros, sino para el mundo, como el año pasado caímos un 11 % el Gobierno. La ministra de España ha dicho lo de la historia de su Gobierno. Acabo ya, señora presidenta. Lamento profundamente que hoy no esté el señor Sánchez está tan poco acostumbrado a venir al Parlamento que hace usted, cuando es capaz de ejecutar ni el 4 % de los fondos europeos y ya hay un millón de familias haciendo las colas del hambre? ¿Cómo puede decir que quiere usar los fondos europeos y ya hay un millón de familias haciendo las colas del estado de alarma para que usted gobierne con firmeza y determinación, por la inestabilidad que tenían ustedes. Pero, mire, en medio minuto quedó usted desnudo a la historia de España pactando con ellos, que dicen públi\n",
            "Turno 5 (Abascal):\n",
            "¿Cómo puede decir que quiere usar los fondos europeos y ya hay un millón de familias haciendo las colas del estado de alarma para que usted gobierne con firmeza y determinación, por la inestabilidad que tenían ustedes, porque lo dabado su probenden la estado de en nuestro país, habían entrado en patera ilegalmente? Na vicepresidente —y espero que con esto no se rían, porque además, si minda para y otros países a los que se les cobraron las cuotas, récord en las colas y de los agricultores que llevan mucho tiense han de investida, por eso quieren una Palilia y piva de pactura de la energía. Su transición energética es un timo que paran a los policías se nespeta ni a sus propios electores. Yo venía a preguntarle cómo duerme usted con el señor Iglesias, pero sobre todo venía a preguntarle cómo duerme usted con el señor Iglesias, pero sobre todo venía a preguntarle cómo duerme usted con el señor Iglesias, pero sobre todo venía a preguntarle cómo duerme usted con el señor Iglesias, pero sobre todo venía a preguntarle cómo duerme usted con el señor Iglesias, pero sobre todo venía a preguntarle cómo duerme usted con el señor Iglesias, pero sobre todo venía a preguntarle cómo duerme usted con el señor Igle\n",
            "\n",
            "\n"
          ]
        }
      ],
      "source": [
        "# Simulación del diálogo entre los modelos de los tres parlamentarios\n",
        "print(\"Inicio del diálogo:\\n\")\n",
        "\n",
        "# Bucle para cada turno del diálogo, según el número de turnos definido\n",
        "for i in range(turns):\n",
        "    # Turno de Sánchez\n",
        "    print(f\"Turno {i+1} (Sánchez):\")\n",
        "    text_sanchez = generate_text(model_sanchez, seed_text, char2idxSanchez, idx2charSanchez, temperature=0.4)\n",
        "    print(text_sanchez)\n",
        "    seed_text = extract_last_sentence(text_sanchez)  # Extraer la última frase generada para usarla como entrada en el siguiente turno\n",
        "    # Validar que seed_text no esté vacío\n",
        "    if not seed_text:\n",
        "        seed_text = \"Por favor, continúe.\"  # Mensaje por defecto en caso de que `seed_text` sea vacío\n",
        "\n",
        "    # Turno de Casado\n",
        "    print(f\"Turno {i+1} (Casado):\")\n",
        "    text_casado = generate_text(model_casado, seed_text, char2idxCasado, idx2charCasado, temperature=0.4)\n",
        "    print(text_casado)\n",
        "    seed_text = extract_last_sentence(text_casado)  # Extraer la última frase generada para usarla como entrada en el siguiente turno\n",
        "    # Validar que seed_text no esté vacío\n",
        "    if not seed_text:\n",
        "        seed_text = \"Por favor, continúe.\"  # Mensaje por defecto en caso de que `seed_text` sea vacío\n",
        "\n",
        "    # Turno de Abascal\n",
        "    print(f\"Turno {i+1} (Abascal):\")\n",
        "    text_abascal = generate_text(model_abascal, seed_text, char2idxAbascal, idx2charAbascal, temperature=0.7)\n",
        "    print(text_abascal)\n",
        "    seed_text = extract_last_sentence(text_abascal)  # Extraer la última frase generada para usarla como entrada en el siguiente turno\n",
        "    # Validar que seed_text no esté vacío\n",
        "    if not seed_text:\n",
        "        seed_text = \"Por favor, continúe.\"  # Mensaje por defecto en caso de que `seed_text` sea vacío\n",
        "\n",
        "    # Separación entre turnos para mayor claridad en la salida\n",
        "    print(\"\\n\")"
      ]
    }
  ]
}